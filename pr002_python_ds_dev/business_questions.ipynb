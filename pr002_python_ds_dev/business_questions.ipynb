{
 "cells": [
  {
   "cell_type": "markdown",
   "id": "f5a2ccd3-a67e-41bf-b6b0-02bd86d0db4a",
   "metadata": {
    "tags": []
   },
   "source": [
    "# Business Questions"
   ]
  },
  {
   "cell_type": "markdown",
   "id": "776d3063-1bee-4cdc-8c5a-d67faddc1af5",
   "metadata": {},
   "source": [
    "# 1.0 - Importing"
   ]
  },
  {
   "cell_type": "markdown",
   "id": "2578ce9c-4398-41a7-a276-8aceea6fb7d0",
   "metadata": {},
   "source": [
    "## 1.1 - Libraries"
   ]
  },
  {
   "cell_type": "code",
   "execution_count": 1,
   "id": "10f77979-410f-4b56-a9a9-c3f8441d0161",
   "metadata": {
    "execution": {
     "iopub.execute_input": "2021-08-02T22:30:07.740664Z",
     "iopub.status.busy": "2021-08-02T22:30:07.740182Z",
     "iopub.status.idle": "2021-08-02T22:30:08.144695Z",
     "shell.execute_reply": "2021-08-02T22:30:08.144274Z",
     "shell.execute_reply.started": "2021-08-02T22:30:07.740542Z"
    }
   },
   "outputs": [],
   "source": [
    "import pandas as pd\n",
    "import numpy as np\n",
    "import kaggle"
   ]
  },
  {
   "cell_type": "markdown",
   "id": "16377965-0b69-4e8e-a7dc-ef855c96a15c",
   "metadata": {},
   "source": [
    "## 1.2 - Functions"
   ]
  },
  {
   "cell_type": "markdown",
   "id": "6c9b8db7-6176-4472-80ec-2d4c3f5be9f5",
   "metadata": {},
   "source": [
    "## 1.3 - Collecting Data"
   ]
  },
  {
   "cell_type": "code",
   "execution_count": null,
   "id": "919408b0-5be4-4a1e-9404-ba481b2be19a",
   "metadata": {},
   "outputs": [],
   "source": [
    "# kaggle."
   ]
  },
  {
   "cell_type": "markdown",
   "id": "5b0e9fe0-2576-4a3a-8736-46ad79921de8",
   "metadata": {},
   "source": [
    "# 2.0 - Data Cleaning"
   ]
  },
  {
   "cell_type": "markdown",
   "id": "807300d2-203d-4b33-b535-4c8de74ef908",
   "metadata": {},
   "source": [
    "# 3.0 - Questions Answears"
   ]
  },
  {
   "cell_type": "code",
   "execution_count": null,
   "id": "2a69762d-b96b-4ac1-9843-44f0674ac7b3",
   "metadata": {},
   "outputs": [],
   "source": []
  }
 ],
 "metadata": {
  "kernelspec": {
   "display_name": "Python 3",
   "language": "python",
   "name": "python3"
  },
  "language_info": {
   "codemirror_mode": {
    "name": "ipython",
    "version": 3
   },
   "file_extension": ".py",
   "mimetype": "text/x-python",
   "name": "python",
   "nbconvert_exporter": "python",
   "pygments_lexer": "ipython3",
   "version": "3.9.5"
  }
 },
 "nbformat": 4,
 "nbformat_minor": 5
}
