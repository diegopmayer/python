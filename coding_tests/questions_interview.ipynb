{
 "cells": [
  {
   "cell_type": "markdown",
   "id": "3b7cbdc4",
   "metadata": {
    "ExecuteTime": {
     "end_time": "2021-08-02T11:14:19.246336Z",
     "start_time": "2021-08-02T11:14:19.243716Z"
    }
   },
   "source": [
    "# Interview Questions"
   ]
  },
  {
   "cell_type": "markdown",
   "id": "a20db281",
   "metadata": {},
   "source": [
    "> This notebook it's about interview questions using python, We will following the any different sites, blogs ou social networking, preferencialy on the real question from bigtech"
   ]
  },
  {
   "cell_type": "markdown",
   "id": "5ea72080",
   "metadata": {},
   "source": [
    "## Questions"
   ]
  },
  {
   "cell_type": "markdown",
   "id": "eb56dc7c",
   "metadata": {},
   "source": [
    "### 1.0 - "
   ]
  },
  {
   "cell_type": "markdown",
   "id": "201d42d6",
   "metadata": {},
   "source": [
    "### 1.0 - "
   ]
  },
  {
   "cell_type": "markdown",
   "id": "064f7385",
   "metadata": {},
   "source": [
    "### 1.0 - "
   ]
  },
  {
   "cell_type": "markdown",
   "id": "ac66124a",
   "metadata": {},
   "source": [
    "### 1.0 - "
   ]
  },
  {
   "cell_type": "markdown",
   "id": "944b158c",
   "metadata": {},
   "source": [
    "### 1.0 - "
   ]
  },
  {
   "cell_type": "code",
   "execution_count": null,
   "id": "7e2e731e",
   "metadata": {},
   "outputs": [],
   "source": []
  }
 ],
 "metadata": {
  "kernelspec": {
   "display_name": "Python 3",
   "language": "python",
   "name": "python3"
  },
  "language_info": {
   "codemirror_mode": {
    "name": "ipython",
    "version": 3
   },
   "file_extension": ".py",
   "mimetype": "text/x-python",
   "name": "python",
   "nbconvert_exporter": "python",
   "pygments_lexer": "ipython3",
   "version": "3.9.5"
  }
 },
 "nbformat": 4,
 "nbformat_minor": 5
}
