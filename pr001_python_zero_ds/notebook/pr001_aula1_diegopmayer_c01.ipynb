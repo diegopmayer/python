{
 "cells": [
  {
   "cell_type": "markdown",
   "id": "c63b8c0d",
   "metadata": {},
   "source": [
    "# Aula 01"
   ]
  },
  {
   "cell_type": "markdown",
   "id": "c444c2ff",
   "metadata": {},
   "source": [
    "- Objetivo\n",
    "    - Ver o conteúdo praticar e responder as perguntas\n",
    "- Perguntas do CO\n",
    "    1. Quantas casas estão disponíveis para compra?\n",
    "    2. Quantos atributos as casas possuem?\n",
    "    3. Quais são os atributos das casas?\n",
    "    4. Qual a casa mais cara ( casa com o maior valor de venda )?\n",
    "    5. Qual a casa com o maior número de quartos?"
   ]
  },
  {
   "cell_type": "markdown",
   "id": "5cac8fb9",
   "metadata": {
    "heading_collapsed": true
   },
   "source": [
    "## 1.0 - Importando Bibliotecas"
   ]
  },
  {
   "cell_type": "code",
   "execution_count": 199,
   "id": "ade1adbf",
   "metadata": {
    "ExecuteTime": {
     "end_time": "2021-04-09T15:27:00.651655Z",
     "start_time": "2021-04-09T15:27:00.635257Z"
    },
    "hidden": true
   },
   "outputs": [],
   "source": [
    "import pandas as pd\n",
    "import matplotlib.pyplot as plt\n",
    "import numpy as np\n",
    "\n",
    "%matplotlib inline"
   ]
  },
  {
   "cell_type": "markdown",
   "id": "8387c42a",
   "metadata": {
    "heading_collapsed": true
   },
   "source": [
    "## 2.0 - Coleta de dados"
   ]
  },
  {
   "cell_type": "code",
   "execution_count": 3,
   "id": "b28adf5f",
   "metadata": {
    "ExecuteTime": {
     "end_time": "2021-04-09T00:55:27.099957Z",
     "start_time": "2021-04-09T00:55:27.029559Z"
    },
    "hidden": true
   },
   "outputs": [],
   "source": [
    "df_house_rocket = pd.read_csv('/home/diegopmayer/Documents/projects/python/pr001_python_zero_ds/dataset/kc_house_data.csv')"
   ]
  },
  {
   "cell_type": "markdown",
   "id": "4b951a2c",
   "metadata": {},
   "source": [
    "## 3.0 - Análise Descritiva"
   ]
  },
  {
   "cell_type": "markdown",
   "id": "9077285c",
   "metadata": {
    "heading_collapsed": true
   },
   "source": [
    "### 3.1 - NaN - Valores Nulos ou None a number"
   ]
  },
  {
   "cell_type": "code",
   "execution_count": 53,
   "id": "4e3f1c1e",
   "metadata": {
    "ExecuteTime": {
     "end_time": "2021-04-09T12:06:54.556851Z",
     "start_time": "2021-04-09T12:06:54.533022Z"
    },
    "hidden": true
   },
   "outputs": [
    {
     "data": {
      "text/plain": [
       "(0, 0)"
      ]
     },
     "execution_count": 53,
     "metadata": {},
     "output_type": "execute_result"
    }
   ],
   "source": [
    "df_house_rocket.isnull().sum().sum(), df_house_rocket.isna().sum().sum()"
   ]
  },
  {
   "cell_type": "markdown",
   "id": "b589ae63",
   "metadata": {
    "heading_collapsed": true
   },
   "source": [
    "### 3.2 - Datatype"
   ]
  },
  {
   "cell_type": "code",
   "execution_count": 69,
   "id": "82fcc51b",
   "metadata": {
    "ExecuteTime": {
     "end_time": "2021-04-09T12:34:50.601025Z",
     "start_time": "2021-04-09T12:34:50.552170Z"
    },
    "hidden": true,
    "scrolled": false
   },
   "outputs": [
    {
     "data": {
      "text/html": [
       "<div>\n",
       "<style scoped>\n",
       "    .dataframe tbody tr th:only-of-type {\n",
       "        vertical-align: middle;\n",
       "    }\n",
       "\n",
       "    .dataframe tbody tr th {\n",
       "        vertical-align: top;\n",
       "    }\n",
       "\n",
       "    .dataframe thead th {\n",
       "        text-align: right;\n",
       "    }\n",
       "</style>\n",
       "<table border=\"1\" class=\"dataframe\">\n",
       "  <thead>\n",
       "    <tr style=\"text-align: right;\">\n",
       "      <th></th>\n",
       "      <th>21610</th>\n",
       "      <th>21611</th>\n",
       "      <th>21612</th>\n",
       "      <th>dtype</th>\n",
       "    </tr>\n",
       "  </thead>\n",
       "  <tbody>\n",
       "    <tr>\n",
       "      <th>id</th>\n",
       "      <td>1523300141</td>\n",
       "      <td>291310100</td>\n",
       "      <td>1523300157</td>\n",
       "      <td>int64</td>\n",
       "    </tr>\n",
       "    <tr>\n",
       "      <th>date</th>\n",
       "      <td>20140623T000000</td>\n",
       "      <td>20150116T000000</td>\n",
       "      <td>20141015T000000</td>\n",
       "      <td>object</td>\n",
       "    </tr>\n",
       "    <tr>\n",
       "      <th>price</th>\n",
       "      <td>402101.0</td>\n",
       "      <td>400000.0</td>\n",
       "      <td>325000.0</td>\n",
       "      <td>float64</td>\n",
       "    </tr>\n",
       "    <tr>\n",
       "      <th>bedrooms</th>\n",
       "      <td>2</td>\n",
       "      <td>3</td>\n",
       "      <td>2</td>\n",
       "      <td>int64</td>\n",
       "    </tr>\n",
       "    <tr>\n",
       "      <th>bathrooms</th>\n",
       "      <td>0.75</td>\n",
       "      <td>2.5</td>\n",
       "      <td>0.75</td>\n",
       "      <td>float64</td>\n",
       "    </tr>\n",
       "    <tr>\n",
       "      <th>sqft_living</th>\n",
       "      <td>1020</td>\n",
       "      <td>1600</td>\n",
       "      <td>1020</td>\n",
       "      <td>int64</td>\n",
       "    </tr>\n",
       "    <tr>\n",
       "      <th>sqft_lot</th>\n",
       "      <td>1350</td>\n",
       "      <td>2388</td>\n",
       "      <td>1076</td>\n",
       "      <td>int64</td>\n",
       "    </tr>\n",
       "    <tr>\n",
       "      <th>floors</th>\n",
       "      <td>2.0</td>\n",
       "      <td>2.0</td>\n",
       "      <td>2.0</td>\n",
       "      <td>float64</td>\n",
       "    </tr>\n",
       "    <tr>\n",
       "      <th>waterfront</th>\n",
       "      <td>0</td>\n",
       "      <td>0</td>\n",
       "      <td>0</td>\n",
       "      <td>int64</td>\n",
       "    </tr>\n",
       "    <tr>\n",
       "      <th>view</th>\n",
       "      <td>0</td>\n",
       "      <td>0</td>\n",
       "      <td>0</td>\n",
       "      <td>int64</td>\n",
       "    </tr>\n",
       "    <tr>\n",
       "      <th>condition</th>\n",
       "      <td>3</td>\n",
       "      <td>3</td>\n",
       "      <td>3</td>\n",
       "      <td>int64</td>\n",
       "    </tr>\n",
       "    <tr>\n",
       "      <th>grade</th>\n",
       "      <td>7</td>\n",
       "      <td>8</td>\n",
       "      <td>7</td>\n",
       "      <td>int64</td>\n",
       "    </tr>\n",
       "    <tr>\n",
       "      <th>sqft_above</th>\n",
       "      <td>1020</td>\n",
       "      <td>1600</td>\n",
       "      <td>1020</td>\n",
       "      <td>int64</td>\n",
       "    </tr>\n",
       "    <tr>\n",
       "      <th>sqft_basement</th>\n",
       "      <td>0</td>\n",
       "      <td>0</td>\n",
       "      <td>0</td>\n",
       "      <td>int64</td>\n",
       "    </tr>\n",
       "    <tr>\n",
       "      <th>yr_built</th>\n",
       "      <td>2009</td>\n",
       "      <td>2004</td>\n",
       "      <td>2008</td>\n",
       "      <td>int64</td>\n",
       "    </tr>\n",
       "    <tr>\n",
       "      <th>yr_renovated</th>\n",
       "      <td>0</td>\n",
       "      <td>0</td>\n",
       "      <td>0</td>\n",
       "      <td>int64</td>\n",
       "    </tr>\n",
       "    <tr>\n",
       "      <th>zipcode</th>\n",
       "      <td>98144</td>\n",
       "      <td>98027</td>\n",
       "      <td>98144</td>\n",
       "      <td>int64</td>\n",
       "    </tr>\n",
       "    <tr>\n",
       "      <th>lat</th>\n",
       "      <td>47.5944</td>\n",
       "      <td>47.5345</td>\n",
       "      <td>47.5941</td>\n",
       "      <td>float64</td>\n",
       "    </tr>\n",
       "    <tr>\n",
       "      <th>long</th>\n",
       "      <td>-122.299</td>\n",
       "      <td>-122.069</td>\n",
       "      <td>-122.299</td>\n",
       "      <td>float64</td>\n",
       "    </tr>\n",
       "    <tr>\n",
       "      <th>sqft_living15</th>\n",
       "      <td>1020</td>\n",
       "      <td>1410</td>\n",
       "      <td>1020</td>\n",
       "      <td>int64</td>\n",
       "    </tr>\n",
       "    <tr>\n",
       "      <th>sqft_lot15</th>\n",
       "      <td>2007</td>\n",
       "      <td>1287</td>\n",
       "      <td>1357</td>\n",
       "      <td>int64</td>\n",
       "    </tr>\n",
       "  </tbody>\n",
       "</table>\n",
       "</div>"
      ],
      "text/plain": [
       "                         21610            21611            21612    dtype\n",
       "id                  1523300141        291310100       1523300157    int64\n",
       "date           20140623T000000  20150116T000000  20141015T000000   object\n",
       "price                 402101.0         400000.0         325000.0  float64\n",
       "bedrooms                     2                3                2    int64\n",
       "bathrooms                 0.75              2.5             0.75  float64\n",
       "sqft_living               1020             1600             1020    int64\n",
       "sqft_lot                  1350             2388             1076    int64\n",
       "floors                     2.0              2.0              2.0  float64\n",
       "waterfront                   0                0                0    int64\n",
       "view                         0                0                0    int64\n",
       "condition                    3                3                3    int64\n",
       "grade                        7                8                7    int64\n",
       "sqft_above                1020             1600             1020    int64\n",
       "sqft_basement                0                0                0    int64\n",
       "yr_built                  2009             2004             2008    int64\n",
       "yr_renovated                 0                0                0    int64\n",
       "zipcode                  98144            98027            98144    int64\n",
       "lat                    47.5944          47.5345          47.5941  float64\n",
       "long                  -122.299         -122.069         -122.299  float64\n",
       "sqft_living15             1020             1410             1020    int64\n",
       "sqft_lot15                2007             1287             1357    int64"
      ]
     },
     "execution_count": 69,
     "metadata": {},
     "output_type": "execute_result"
    }
   ],
   "source": [
    "dtype = ['int64','object','float64','int64','float64','int64','int64',\n",
    "         'float64','int64','int64','int64','int64','int64','int64',\n",
    "         'int64','int64','int64','float64','float64','int64','int64']\n",
    "\n",
    "df_dtype = df_house_rocket.tail(3).T\n",
    "df_dtype['dtype'] = dtype\n",
    "df_dtype"
   ]
  },
  {
   "cell_type": "code",
   "execution_count": 70,
   "id": "dd43d0e7",
   "metadata": {
    "ExecuteTime": {
     "end_time": "2021-04-09T12:37:35.348056Z",
     "start_time": "2021-04-09T12:37:35.317645Z"
    },
    "hidden": true
   },
   "outputs": [],
   "source": [
    "# date\n",
    "# objeto para formato data \"datetime\"\n",
    "df_house_rocket['date'] = df_house_rocket['date'].astype('datetime64[ns]').copy()"
   ]
  },
  {
   "cell_type": "markdown",
   "id": "a02abd6c",
   "metadata": {
    "heading_collapsed": true
   },
   "source": [
    "### 3.3 - Estatística descritiva"
   ]
  },
  {
   "cell_type": "code",
   "execution_count": 192,
   "id": "86ec310c",
   "metadata": {
    "ExecuteTime": {
     "end_time": "2021-04-09T15:25:34.903910Z",
     "start_time": "2021-04-09T15:25:34.811647Z"
    },
    "hidden": true,
    "scrolled": false
   },
   "outputs": [
    {
     "data": {
      "text/html": [
       "<div>\n",
       "<style scoped>\n",
       "    .dataframe tbody tr th:only-of-type {\n",
       "        vertical-align: middle;\n",
       "    }\n",
       "\n",
       "    .dataframe tbody tr th {\n",
       "        vertical-align: top;\n",
       "    }\n",
       "\n",
       "    .dataframe thead th {\n",
       "        text-align: right;\n",
       "    }\n",
       "</style>\n",
       "<table border=\"1\" class=\"dataframe\">\n",
       "  <thead>\n",
       "    <tr style=\"text-align: right;\">\n",
       "      <th></th>\n",
       "      <th>count</th>\n",
       "      <th>mean</th>\n",
       "      <th>std</th>\n",
       "      <th>min</th>\n",
       "      <th>25%</th>\n",
       "      <th>50%</th>\n",
       "      <th>75%</th>\n",
       "      <th>max</th>\n",
       "    </tr>\n",
       "  </thead>\n",
       "  <tbody>\n",
       "    <tr>\n",
       "      <th>price</th>\n",
       "      <td>21613.0</td>\n",
       "      <td>540088.141767</td>\n",
       "      <td>367127.196483</td>\n",
       "      <td>75000.0000</td>\n",
       "      <td>321950.000</td>\n",
       "      <td>450000.0000</td>\n",
       "      <td>645000.000</td>\n",
       "      <td>7.700000e+06</td>\n",
       "    </tr>\n",
       "    <tr>\n",
       "      <th>bedrooms</th>\n",
       "      <td>21613.0</td>\n",
       "      <td>3.370842</td>\n",
       "      <td>0.930062</td>\n",
       "      <td>0.0000</td>\n",
       "      <td>3.000</td>\n",
       "      <td>3.0000</td>\n",
       "      <td>4.000</td>\n",
       "      <td>3.300000e+01</td>\n",
       "    </tr>\n",
       "    <tr>\n",
       "      <th>bathrooms</th>\n",
       "      <td>21613.0</td>\n",
       "      <td>2.114757</td>\n",
       "      <td>0.770163</td>\n",
       "      <td>0.0000</td>\n",
       "      <td>1.750</td>\n",
       "      <td>2.2500</td>\n",
       "      <td>2.500</td>\n",
       "      <td>8.000000e+00</td>\n",
       "    </tr>\n",
       "    <tr>\n",
       "      <th>sqft_living</th>\n",
       "      <td>21613.0</td>\n",
       "      <td>2079.899736</td>\n",
       "      <td>918.440897</td>\n",
       "      <td>290.0000</td>\n",
       "      <td>1427.000</td>\n",
       "      <td>1910.0000</td>\n",
       "      <td>2550.000</td>\n",
       "      <td>1.354000e+04</td>\n",
       "    </tr>\n",
       "    <tr>\n",
       "      <th>sqft_lot</th>\n",
       "      <td>21613.0</td>\n",
       "      <td>15106.967566</td>\n",
       "      <td>41420.511515</td>\n",
       "      <td>520.0000</td>\n",
       "      <td>5040.000</td>\n",
       "      <td>7618.0000</td>\n",
       "      <td>10688.000</td>\n",
       "      <td>1.651359e+06</td>\n",
       "    </tr>\n",
       "    <tr>\n",
       "      <th>floors</th>\n",
       "      <td>21613.0</td>\n",
       "      <td>1.494309</td>\n",
       "      <td>0.539989</td>\n",
       "      <td>1.0000</td>\n",
       "      <td>1.000</td>\n",
       "      <td>1.5000</td>\n",
       "      <td>2.000</td>\n",
       "      <td>3.500000e+00</td>\n",
       "    </tr>\n",
       "    <tr>\n",
       "      <th>waterfront</th>\n",
       "      <td>21613.0</td>\n",
       "      <td>0.007542</td>\n",
       "      <td>0.086517</td>\n",
       "      <td>0.0000</td>\n",
       "      <td>0.000</td>\n",
       "      <td>0.0000</td>\n",
       "      <td>0.000</td>\n",
       "      <td>1.000000e+00</td>\n",
       "    </tr>\n",
       "    <tr>\n",
       "      <th>view</th>\n",
       "      <td>21613.0</td>\n",
       "      <td>0.234303</td>\n",
       "      <td>0.766318</td>\n",
       "      <td>0.0000</td>\n",
       "      <td>0.000</td>\n",
       "      <td>0.0000</td>\n",
       "      <td>0.000</td>\n",
       "      <td>4.000000e+00</td>\n",
       "    </tr>\n",
       "    <tr>\n",
       "      <th>condition</th>\n",
       "      <td>21613.0</td>\n",
       "      <td>3.409430</td>\n",
       "      <td>0.650743</td>\n",
       "      <td>1.0000</td>\n",
       "      <td>3.000</td>\n",
       "      <td>3.0000</td>\n",
       "      <td>4.000</td>\n",
       "      <td>5.000000e+00</td>\n",
       "    </tr>\n",
       "    <tr>\n",
       "      <th>grade</th>\n",
       "      <td>21613.0</td>\n",
       "      <td>7.656873</td>\n",
       "      <td>1.175459</td>\n",
       "      <td>1.0000</td>\n",
       "      <td>7.000</td>\n",
       "      <td>7.0000</td>\n",
       "      <td>8.000</td>\n",
       "      <td>1.300000e+01</td>\n",
       "    </tr>\n",
       "    <tr>\n",
       "      <th>sqft_above</th>\n",
       "      <td>21613.0</td>\n",
       "      <td>1788.390691</td>\n",
       "      <td>828.090978</td>\n",
       "      <td>290.0000</td>\n",
       "      <td>1190.000</td>\n",
       "      <td>1560.0000</td>\n",
       "      <td>2210.000</td>\n",
       "      <td>9.410000e+03</td>\n",
       "    </tr>\n",
       "    <tr>\n",
       "      <th>sqft_basement</th>\n",
       "      <td>21613.0</td>\n",
       "      <td>291.509045</td>\n",
       "      <td>442.575043</td>\n",
       "      <td>0.0000</td>\n",
       "      <td>0.000</td>\n",
       "      <td>0.0000</td>\n",
       "      <td>560.000</td>\n",
       "      <td>4.820000e+03</td>\n",
       "    </tr>\n",
       "    <tr>\n",
       "      <th>yr_built</th>\n",
       "      <td>21613.0</td>\n",
       "      <td>1971.005136</td>\n",
       "      <td>29.373411</td>\n",
       "      <td>1900.0000</td>\n",
       "      <td>1951.000</td>\n",
       "      <td>1975.0000</td>\n",
       "      <td>1997.000</td>\n",
       "      <td>2.015000e+03</td>\n",
       "    </tr>\n",
       "    <tr>\n",
       "      <th>yr_renovated</th>\n",
       "      <td>21613.0</td>\n",
       "      <td>84.402258</td>\n",
       "      <td>401.679240</td>\n",
       "      <td>0.0000</td>\n",
       "      <td>0.000</td>\n",
       "      <td>0.0000</td>\n",
       "      <td>0.000</td>\n",
       "      <td>2.015000e+03</td>\n",
       "    </tr>\n",
       "    <tr>\n",
       "      <th>zipcode</th>\n",
       "      <td>21613.0</td>\n",
       "      <td>98077.939805</td>\n",
       "      <td>53.505026</td>\n",
       "      <td>98001.0000</td>\n",
       "      <td>98033.000</td>\n",
       "      <td>98065.0000</td>\n",
       "      <td>98118.000</td>\n",
       "      <td>9.819900e+04</td>\n",
       "    </tr>\n",
       "    <tr>\n",
       "      <th>lat</th>\n",
       "      <td>21613.0</td>\n",
       "      <td>47.560053</td>\n",
       "      <td>0.138564</td>\n",
       "      <td>47.1559</td>\n",
       "      <td>47.471</td>\n",
       "      <td>47.5718</td>\n",
       "      <td>47.678</td>\n",
       "      <td>4.777760e+01</td>\n",
       "    </tr>\n",
       "    <tr>\n",
       "      <th>long</th>\n",
       "      <td>21613.0</td>\n",
       "      <td>-122.213896</td>\n",
       "      <td>0.140828</td>\n",
       "      <td>-122.5190</td>\n",
       "      <td>-122.328</td>\n",
       "      <td>-122.2300</td>\n",
       "      <td>-122.125</td>\n",
       "      <td>-1.213150e+02</td>\n",
       "    </tr>\n",
       "    <tr>\n",
       "      <th>sqft_living15</th>\n",
       "      <td>21613.0</td>\n",
       "      <td>1986.552492</td>\n",
       "      <td>685.391304</td>\n",
       "      <td>399.0000</td>\n",
       "      <td>1490.000</td>\n",
       "      <td>1840.0000</td>\n",
       "      <td>2360.000</td>\n",
       "      <td>6.210000e+03</td>\n",
       "    </tr>\n",
       "    <tr>\n",
       "      <th>sqft_lot15</th>\n",
       "      <td>21613.0</td>\n",
       "      <td>12768.455652</td>\n",
       "      <td>27304.179631</td>\n",
       "      <td>651.0000</td>\n",
       "      <td>5100.000</td>\n",
       "      <td>7620.0000</td>\n",
       "      <td>10083.000</td>\n",
       "      <td>8.712000e+05</td>\n",
       "    </tr>\n",
       "  </tbody>\n",
       "</table>\n",
       "</div>"
      ],
      "text/plain": [
       "                 count           mean            std         min         25%  \\\n",
       "price          21613.0  540088.141767  367127.196483  75000.0000  321950.000   \n",
       "bedrooms       21613.0       3.370842       0.930062      0.0000       3.000   \n",
       "bathrooms      21613.0       2.114757       0.770163      0.0000       1.750   \n",
       "sqft_living    21613.0    2079.899736     918.440897    290.0000    1427.000   \n",
       "sqft_lot       21613.0   15106.967566   41420.511515    520.0000    5040.000   \n",
       "floors         21613.0       1.494309       0.539989      1.0000       1.000   \n",
       "waterfront     21613.0       0.007542       0.086517      0.0000       0.000   \n",
       "view           21613.0       0.234303       0.766318      0.0000       0.000   \n",
       "condition      21613.0       3.409430       0.650743      1.0000       3.000   \n",
       "grade          21613.0       7.656873       1.175459      1.0000       7.000   \n",
       "sqft_above     21613.0    1788.390691     828.090978    290.0000    1190.000   \n",
       "sqft_basement  21613.0     291.509045     442.575043      0.0000       0.000   \n",
       "yr_built       21613.0    1971.005136      29.373411   1900.0000    1951.000   \n",
       "yr_renovated   21613.0      84.402258     401.679240      0.0000       0.000   \n",
       "zipcode        21613.0   98077.939805      53.505026  98001.0000   98033.000   \n",
       "lat            21613.0      47.560053       0.138564     47.1559      47.471   \n",
       "long           21613.0    -122.213896       0.140828   -122.5190    -122.328   \n",
       "sqft_living15  21613.0    1986.552492     685.391304    399.0000    1490.000   \n",
       "sqft_lot15     21613.0   12768.455652   27304.179631    651.0000    5100.000   \n",
       "\n",
       "                       50%         75%           max  \n",
       "price          450000.0000  645000.000  7.700000e+06  \n",
       "bedrooms            3.0000       4.000  3.300000e+01  \n",
       "bathrooms           2.2500       2.500  8.000000e+00  \n",
       "sqft_living      1910.0000    2550.000  1.354000e+04  \n",
       "sqft_lot         7618.0000   10688.000  1.651359e+06  \n",
       "floors              1.5000       2.000  3.500000e+00  \n",
       "waterfront          0.0000       0.000  1.000000e+00  \n",
       "view                0.0000       0.000  4.000000e+00  \n",
       "condition           3.0000       4.000  5.000000e+00  \n",
       "grade               7.0000       8.000  1.300000e+01  \n",
       "sqft_above       1560.0000    2210.000  9.410000e+03  \n",
       "sqft_basement       0.0000     560.000  4.820000e+03  \n",
       "yr_built         1975.0000    1997.000  2.015000e+03  \n",
       "yr_renovated        0.0000       0.000  2.015000e+03  \n",
       "zipcode         98065.0000   98118.000  9.819900e+04  \n",
       "lat                47.5718      47.678  4.777760e+01  \n",
       "long             -122.2300    -122.125 -1.213150e+02  \n",
       "sqft_living15    1840.0000    2360.000  6.210000e+03  \n",
       "sqft_lot15       7620.0000   10083.000  8.712000e+05  "
      ]
     },
     "execution_count": 192,
     "metadata": {},
     "output_type": "execute_result"
    }
   ],
   "source": [
    "# análise descritiva dos dados \"eliminando o id\"\n",
    "df_house_rocket.drop('id', axis=1).describe().T"
   ]
  },
  {
   "cell_type": "code",
   "execution_count": 232,
   "id": "410c2ba6",
   "metadata": {
    "ExecuteTime": {
     "end_time": "2021-04-09T15:40:21.142691Z",
     "start_time": "2021-04-09T15:40:20.795135Z"
    },
    "hidden": true
   },
   "outputs": [
    {
     "data": {
      "image/png": "[encoded data removed]",
      "text/plain": [
       "<Figure size 432x288 with 2 Axes>"
      ]
     },
     "metadata": {
      "needs_background": "light"
     },
     "output_type": "display_data"
    }
   ],
   "source": [
    "grid = plt.GridSpec(1, 2)\n",
    "\n",
    "plt.subplot(grid[0,0]);\n",
    "df_house_rocket['price'].hist(bins=50);\n",
    "\n",
    "plt.subplot(grid[0,1]);\n",
    "np.log(df_house_rocket['price']).hist(bins=50);\n"
   ]
  },
  {
   "cell_type": "markdown",
   "id": "839e0d6c",
   "metadata": {},
   "source": [
    "## 3.0 - Análise Exploratória"
   ]
  },
  {
   "cell_type": "code",
   "execution_count": 237,
   "id": "cf3def17",
   "metadata": {
    "ExecuteTime": {
     "end_time": "2021-04-09T15:44:27.867314Z",
     "start_time": "2021-04-09T15:44:27.849516Z"
    }
   },
   "outputs": [
    {
     "name": "stdout",
     "output_type": "stream",
     "text": [
      "     Total de registros: 21613\n",
      "Total de IDs duplicados: 177\n",
      " Total real de casas disponíveis: 21436\n"
     ]
    }
   ],
   "source": [
    "# 1. Quantas casas estão disponíveis para compra?\n",
    "    # R: 21436\n",
    "\n",
    "# Quantidades de registros e quantidade de registros duplicados\n",
    "print(f'     Total de registros: {df_house_rocket.shape[0]}')\n",
    "print(f'Total de IDs duplicados: {df_house_rocket[\"id\"].duplicated().sum()}')\n",
    "\n",
    "# 21613 casas disponíveis para venda, porém, existem id duplicados, então teremos 21613 - 177 duplicados \n",
    "print(f' Total real de casas disponíveis: {df_house_rocket.shape[0] - df_house_rocket[\"id\"].duplicated().sum()}')"
   ]
  },
  {
   "cell_type": "code",
   "execution_count": 238,
   "id": "8e9c7f2c",
   "metadata": {
    "ExecuteTime": {
     "end_time": "2021-04-09T15:51:07.323061Z",
     "start_time": "2021-04-09T15:51:07.310920Z"
    }
   },
   "outputs": [
    {
     "data": {
      "text/plain": [
       "21"
      ]
     },
     "execution_count": 238,
     "metadata": {},
     "output_type": "execute_result"
    }
   ],
   "source": [
    "# 2. Quantos atributos as casas possuem? como não foi explicito, consideramos o id.\n",
    "    # R: 21\n",
    "df_house_rocket.shape[1]"
   ]
  },
  {
   "cell_type": "code",
   "execution_count": 239,
   "id": "abb39536",
   "metadata": {
    "ExecuteTime": {
     "end_time": "2021-04-09T16:27:10.672294Z",
     "start_time": "2021-04-09T16:27:10.665380Z"
    }
   },
   "outputs": [
    {
     "data": {
      "text/plain": [
       "Index(['id', 'date', 'price', 'bedrooms', 'bathrooms', 'sqft_living',\n",
       "       'sqft_lot', 'floors', 'waterfront', 'view', 'condition', 'grade',\n",
       "       'sqft_above', 'sqft_basement', 'yr_built', 'yr_renovated', 'zipcode',\n",
       "       'lat', 'long', 'sqft_living15', 'sqft_lot15'],\n",
       "      dtype='object')"
      ]
     },
     "execution_count": 239,
     "metadata": {},
     "output_type": "execute_result"
    }
   ],
   "source": [
    "# 3. Quais são os atributos das casas?\n",
    "#     - R: ['id', 'date', 'price', 'bedrooms', 'bathrooms', 'sqft_living',\n",
    "#       'sqft_lot', 'floors', 'waterfront', 'view', 'condition', 'grade',\n",
    "#       'sqft_above', 'sqft_basement', 'yr_built', 'yr_renovated', 'zipcode',\n",
    "#       'lat', 'long', 'sqft_living15', 'sqft_lot15']\n",
    "\n",
    "df_house_rocket.columns"
   ]
  },
  {
   "cell_type": "code",
   "execution_count": 249,
   "id": "308a2ee9",
   "metadata": {
    "ExecuteTime": {
     "end_time": "2021-04-09T16:38:30.224768Z",
     "start_time": "2021-04-09T16:38:30.196036Z"
    }
   },
   "outputs": [
    {
     "data": {
      "text/html": [
       "<div>\n",
       "<style scoped>\n",
       "    .dataframe tbody tr th:only-of-type {\n",
       "        vertical-align: middle;\n",
       "    }\n",
       "\n",
       "    .dataframe tbody tr th {\n",
       "        vertical-align: top;\n",
       "    }\n",
       "\n",
       "    .dataframe thead th {\n",
       "        text-align: right;\n",
       "    }\n",
       "</style>\n",
       "<table border=\"1\" class=\"dataframe\">\n",
       "  <thead>\n",
       "    <tr style=\"text-align: right;\">\n",
       "      <th></th>\n",
       "      <th>id</th>\n",
       "      <th>date</th>\n",
       "      <th>price</th>\n",
       "      <th>bedrooms</th>\n",
       "      <th>bathrooms</th>\n",
       "      <th>sqft_living</th>\n",
       "      <th>sqft_lot</th>\n",
       "      <th>floors</th>\n",
       "      <th>waterfront</th>\n",
       "      <th>view</th>\n",
       "      <th>...</th>\n",
       "      <th>grade</th>\n",
       "      <th>sqft_above</th>\n",
       "      <th>sqft_basement</th>\n",
       "      <th>yr_built</th>\n",
       "      <th>yr_renovated</th>\n",
       "      <th>zipcode</th>\n",
       "      <th>lat</th>\n",
       "      <th>long</th>\n",
       "      <th>sqft_living15</th>\n",
       "      <th>sqft_lot15</th>\n",
       "    </tr>\n",
       "  </thead>\n",
       "  <tbody>\n",
       "    <tr>\n",
       "      <th>7252</th>\n",
       "      <td>6762700020</td>\n",
       "      <td>2014-10-13</td>\n",
       "      <td>7700000.0</td>\n",
       "      <td>6</td>\n",
       "      <td>8.0</td>\n",
       "      <td>12050</td>\n",
       "      <td>27600</td>\n",
       "      <td>2.5</td>\n",
       "      <td>0</td>\n",
       "      <td>3</td>\n",
       "      <td>...</td>\n",
       "      <td>13</td>\n",
       "      <td>8570</td>\n",
       "      <td>3480</td>\n",
       "      <td>1910</td>\n",
       "      <td>1987</td>\n",
       "      <td>98102</td>\n",
       "      <td>47.6298</td>\n",
       "      <td>-122.323</td>\n",
       "      <td>3940</td>\n",
       "      <td>8800</td>\n",
       "    </tr>\n",
       "  </tbody>\n",
       "</table>\n",
       "<p>1 rows × 21 columns</p>\n",
       "</div>"
      ],
      "text/plain": [
       "              id       date      price  bedrooms  bathrooms  sqft_living  \\\n",
       "7252  6762700020 2014-10-13  7700000.0         6        8.0        12050   \n",
       "\n",
       "      sqft_lot  floors  waterfront  view  ...  grade  sqft_above  \\\n",
       "7252     27600     2.5           0     3  ...     13        8570   \n",
       "\n",
       "      sqft_basement  yr_built  yr_renovated  zipcode      lat     long  \\\n",
       "7252           3480      1910          1987    98102  47.6298 -122.323   \n",
       "\n",
       "      sqft_living15  sqft_lot15  \n",
       "7252           3940        8800  \n",
       "\n",
       "[1 rows x 21 columns]"
      ]
     },
     "execution_count": 249,
     "metadata": {},
     "output_type": "execute_result"
    }
   ],
   "source": [
    "# 4. Qual a casa mais cara ( casa com o maior valor de venda )?\n",
    "#     - R: id: 6762700020 | 7.700.000,00\n",
    "df_house_rocket[df_house_rocket['price'] == df_house_rocket['price'].max()]"
   ]
  },
  {
   "cell_type": "code",
   "execution_count": 248,
   "id": "a18d77fa",
   "metadata": {
    "ExecuteTime": {
     "end_time": "2021-04-09T16:33:15.425315Z",
     "start_time": "2021-04-09T16:33:15.373357Z"
    }
   },
   "outputs": [
    {
     "data": {
      "text/html": [
       "<div>\n",
       "<style scoped>\n",
       "    .dataframe tbody tr th:only-of-type {\n",
       "        vertical-align: middle;\n",
       "    }\n",
       "\n",
       "    .dataframe tbody tr th {\n",
       "        vertical-align: top;\n",
       "    }\n",
       "\n",
       "    .dataframe thead th {\n",
       "        text-align: right;\n",
       "    }\n",
       "</style>\n",
       "<table border=\"1\" class=\"dataframe\">\n",
       "  <thead>\n",
       "    <tr style=\"text-align: right;\">\n",
       "      <th></th>\n",
       "      <th>id</th>\n",
       "      <th>date</th>\n",
       "      <th>price</th>\n",
       "      <th>bedrooms</th>\n",
       "      <th>bathrooms</th>\n",
       "      <th>sqft_living</th>\n",
       "      <th>sqft_lot</th>\n",
       "      <th>floors</th>\n",
       "      <th>waterfront</th>\n",
       "      <th>view</th>\n",
       "      <th>...</th>\n",
       "      <th>grade</th>\n",
       "      <th>sqft_above</th>\n",
       "      <th>sqft_basement</th>\n",
       "      <th>yr_built</th>\n",
       "      <th>yr_renovated</th>\n",
       "      <th>zipcode</th>\n",
       "      <th>lat</th>\n",
       "      <th>long</th>\n",
       "      <th>sqft_living15</th>\n",
       "      <th>sqft_lot15</th>\n",
       "    </tr>\n",
       "  </thead>\n",
       "  <tbody>\n",
       "    <tr>\n",
       "      <th>15870</th>\n",
       "      <td>2402100895</td>\n",
       "      <td>2014-06-25</td>\n",
       "      <td>640000.0</td>\n",
       "      <td>33</td>\n",
       "      <td>1.75</td>\n",
       "      <td>1620</td>\n",
       "      <td>6000</td>\n",
       "      <td>1.0</td>\n",
       "      <td>0</td>\n",
       "      <td>0</td>\n",
       "      <td>...</td>\n",
       "      <td>7</td>\n",
       "      <td>1040</td>\n",
       "      <td>580</td>\n",
       "      <td>1947</td>\n",
       "      <td>0</td>\n",
       "      <td>98103</td>\n",
       "      <td>47.6878</td>\n",
       "      <td>-122.331</td>\n",
       "      <td>1330</td>\n",
       "      <td>4700</td>\n",
       "    </tr>\n",
       "  </tbody>\n",
       "</table>\n",
       "<p>1 rows × 21 columns</p>\n",
       "</div>"
      ],
      "text/plain": [
       "               id       date     price  bedrooms  bathrooms  sqft_living  \\\n",
       "15870  2402100895 2014-06-25  640000.0        33       1.75         1620   \n",
       "\n",
       "       sqft_lot  floors  waterfront  view  ...  grade  sqft_above  \\\n",
       "15870      6000     1.0           0     0  ...      7        1040   \n",
       "\n",
       "       sqft_basement  yr_built  yr_renovated  zipcode      lat     long  \\\n",
       "15870            580      1947             0    98103  47.6878 -122.331   \n",
       "\n",
       "       sqft_living15  sqft_lot15  \n",
       "15870           1330        4700  \n",
       "\n",
       "[1 rows x 21 columns]"
      ]
     },
     "execution_count": 248,
     "metadata": {},
     "output_type": "execute_result"
    }
   ],
   "source": [
    "# 5. Qual a casa com o maior número de quartos?\n",
    "#     - R: id= 2402100895 com 33 quartos\n",
    "df_house_rocket[df_house_rocket['bedrooms'] == df_house_rocket['bedrooms'].max()]"
   ]
  },
  {
   "cell_type": "markdown",
   "id": "0c4953d9",
   "metadata": {
    "heading_collapsed": true
   },
   "source": [
    "## 4.0 - Entrega"
   ]
  },
  {
   "cell_type": "markdown",
   "id": "ff9778ff",
   "metadata": {
    "hidden": true
   },
   "source": [
    "1. Quantas casas estão disponíveis para compra?\n",
    "    - R: **21436** casas\n",
    "2. Quantos atributos as casas possuem?\n",
    "    - R: **21** atributos das casas\n",
    "3. Quais são os atributos das casas?\n",
    "    - R: \n",
    "         - 'id'\n",
    "         - 'date' \n",
    "         - 'price'\n",
    "         - 'bedrooms'\n",
    "         - 'bathrooms'\n",
    "         - 'sqft_living',\n",
    "         - 'sqft_lot'\n",
    "         - 'floors'\n",
    "         - 'waterfront'\n",
    "         - 'view'\n",
    "         - 'condition'\n",
    "         - 'grade',\n",
    "         - 'sqft_above'\n",
    "         - 'sqft_basement'\n",
    "         - 'yr_built'\n",
    "         - 'yr_renovated'\n",
    "         - 'zipcode',\n",
    "         - 'lat'\n",
    "         - 'long'\n",
    "         - 'sqft_living15'\n",
    "         - 'sqft_lot15'\n",
    "4. Qual a casa mais cara ( casa com o maior valor de venda )?\n",
    "    - R: id = **6762700020** no valor de **7.700.000,00**\n",
    "5. Qual a casa com o maior número de quartos?\n",
    "    - R: id = id **2402100895** com **33** quartos"
   ]
  },
  {
   "cell_type": "markdown",
   "id": "c79c20d0",
   "metadata": {},
   "source": [
    "## 5.0 - Novas perguntas como exercício"
   ]
  },
  {
   "cell_type": "markdown",
   "id": "8becd9f3",
   "metadata": {},
   "source": [
    "1. Quantas casas estão disponíveis para compra?\n",
    "2. Quantos atributos as casas possuem?\n",
    "3. Quais são os atributos das casas?\n",
    "4. Qual a casa mais cara ( casa com o maior valor de venda )?\n",
    "5. Qual a casa com o maior número de quartos?\n",
    "6. Qual a soma total de quartos do conjunto de dados?\n",
    "7. Quantas casas possuem 2 banheiros?\n",
    "8. Qual o preço médio de todas as casas no conjunto de dados?\n",
    "9. Qual o preço médio de casas com 2 banheiros?\n",
    "10. Qual o preço mínimo entre as casas com 3 quartos?\n",
    "11. Quantas casas possuem mais de 300 metros quadrados na sala de estar?\n",
    "12. Quantas casas tem mais de 2 andares?\n",
    "13. Quantas casas tem vista para o mar?\n",
    "14. Das casas com vista para o mar, quantas tem 3 quartos?\n",
    "15. Das casas com mais de 300 metros quadrados de sala de estar, quantas tem mais de 2 banheiros?"
   ]
  }
 ],
 "metadata": {
  "kernelspec": {
   "display_name": "Python 3",
   "language": "python",
   "name": "python3"
  },
  "language_info": {
   "codemirror_mode": {
    "name": "ipython",
    "version": 3
   },
   "file_extension": ".py",
   "mimetype": "text/x-python",
   "name": "python",
   "nbconvert_exporter": "python",
   "pygments_lexer": "ipython3",
   "version": "3.8.6"
  }
 },
 "nbformat": 4,
 "nbformat_minor": 5
}
