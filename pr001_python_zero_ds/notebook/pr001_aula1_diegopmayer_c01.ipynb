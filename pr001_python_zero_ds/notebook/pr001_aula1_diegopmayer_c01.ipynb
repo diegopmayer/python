{
 "cells": [
  {
   "cell_type": "markdown",
   "id": "c63b8c0d",
   "metadata": {},
   "source": [
    "# Aula 01"
   ]
  },
  {
   "cell_type": "markdown",
   "id": "5cac8fb9",
   "metadata": {
    "heading_collapsed": true
   },
   "source": [
    "## 1.0 - Importando Bibliotecas"
   ]
  },
  {
   "cell_type": "code",
   "execution_count": 15,
   "id": "ade1adbf",
   "metadata": {
    "ExecuteTime": {
     "end_time": "2021-04-12T23:53:30.010027Z",
     "start_time": "2021-04-12T23:53:29.992850Z"
    },
    "hidden": true
   },
   "outputs": [
    {
     "name": "stdout",
     "output_type": "stream",
     "text": [
      "Populating the interactive namespace from numpy and matplotlib\n"
     ]
    }
   ],
   "source": [
    "import pandas as pd\n",
    "import matplotlib.pyplot as plt\n",
    "import numpy as np\n",
    "\n",
    "\n",
    "# Jupyter config to better experiênce on visualization\n",
    "%matplotlib inline\n",
    "%pylab inline\n",
    "plt.style.use('bmh')\n",
    "plt.rcParams['figure.figsize'] = [25,12]\n",
    "plt.rcParams['font.size'] = 24\n",
    "pd.options.display.max_columns = None\n",
    "pd.options.display.max_rows = 100\n",
    "pd.set_option('display.expand_frame_repr', False)"
   ]
  },
  {
   "cell_type": "markdown",
   "id": "8387c42a",
   "metadata": {
    "heading_collapsed": true
   },
   "source": [
    "## 2.0 - Coleta de dados"
   ]
  },
  {
   "cell_type": "code",
   "execution_count": 16,
   "id": "b28adf5f",
   "metadata": {
    "ExecuteTime": {
     "end_time": "2021-04-12T23:53:31.126590Z",
     "start_time": "2021-04-12T23:53:30.578318Z"
    },
    "hidden": true
   },
   "outputs": [],
   "source": [
    "df_house_rocket = pd.read_csv('/home/diegopmayer/Documents/projects/python/pr001_python_zero_ds/dataset/kc_house_data.csv')"
   ]
  },
  {
   "cell_type": "markdown",
   "id": "4b951a2c",
   "metadata": {},
   "source": [
    "## 3.0 - Análise Descritiva"
   ]
  },
  {
   "cell_type": "markdown",
   "id": "9077285c",
   "metadata": {
    "heading_collapsed": true
   },
   "source": [
    "### 3.1 - NaN - Valores Nulos ou None a number"
   ]
  },
  {
   "cell_type": "code",
   "execution_count": 17,
   "id": "4e3f1c1e",
   "metadata": {
    "ExecuteTime": {
     "end_time": "2021-04-12T23:53:32.730021Z",
     "start_time": "2021-04-12T23:53:32.680167Z"
    },
    "hidden": true
   },
   "outputs": [
    {
     "data": {
      "text/plain": [
       "(0, 0)"
      ]
     },
     "execution_count": 17,
     "metadata": {},
     "output_type": "execute_result"
    }
   ],
   "source": [
    "df_house_rocket.isnull().sum().sum(), df_house_rocket.isna().sum().sum()"
   ]
  },
  {
   "cell_type": "markdown",
   "id": "b589ae63",
   "metadata": {
    "heading_collapsed": true
   },
   "source": [
    "### 3.2 - Datatype"
   ]
  },
  {
   "cell_type": "code",
   "execution_count": 18,
   "id": "82fcc51b",
   "metadata": {
    "ExecuteTime": {
     "end_time": "2021-04-12T23:53:37.001940Z",
     "start_time": "2021-04-12T23:53:36.827448Z"
    },
    "hidden": true,
    "scrolled": false
   },
   "outputs": [
    {
     "data": {
      "text/html": [
       "<div>\n",
       "<style scoped>\n",
       "    .dataframe tbody tr th:only-of-type {\n",
       "        vertical-align: middle;\n",
       "    }\n",
       "\n",
       "    .dataframe tbody tr th {\n",
       "        vertical-align: top;\n",
       "    }\n",
       "\n",
       "    .dataframe thead th {\n",
       "        text-align: right;\n",
       "    }\n",
       "</style>\n",
       "<table border=\"1\" class=\"dataframe\">\n",
       "  <thead>\n",
       "    <tr style=\"text-align: right;\">\n",
       "      <th></th>\n",
       "      <th>21610</th>\n",
       "      <th>21611</th>\n",
       "      <th>21612</th>\n",
       "      <th>dtype</th>\n",
       "    </tr>\n",
       "  </thead>\n",
       "  <tbody>\n",
       "    <tr>\n",
       "      <th>id</th>\n",
       "      <td>1523300141</td>\n",
       "      <td>291310100</td>\n",
       "      <td>1523300157</td>\n",
       "      <td>int64</td>\n",
       "    </tr>\n",
       "    <tr>\n",
       "      <th>date</th>\n",
       "      <td>20140623T000000</td>\n",
       "      <td>20150116T000000</td>\n",
       "      <td>20141015T000000</td>\n",
       "      <td>object</td>\n",
       "    </tr>\n",
       "    <tr>\n",
       "      <th>price</th>\n",
       "      <td>402101.0</td>\n",
       "      <td>400000.0</td>\n",
       "      <td>325000.0</td>\n",
       "      <td>float64</td>\n",
       "    </tr>\n",
       "    <tr>\n",
       "      <th>bedrooms</th>\n",
       "      <td>2</td>\n",
       "      <td>3</td>\n",
       "      <td>2</td>\n",
       "      <td>int64</td>\n",
       "    </tr>\n",
       "    <tr>\n",
       "      <th>bathrooms</th>\n",
       "      <td>0.75</td>\n",
       "      <td>2.5</td>\n",
       "      <td>0.75</td>\n",
       "      <td>float64</td>\n",
       "    </tr>\n",
       "    <tr>\n",
       "      <th>sqft_living</th>\n",
       "      <td>1020</td>\n",
       "      <td>1600</td>\n",
       "      <td>1020</td>\n",
       "      <td>int64</td>\n",
       "    </tr>\n",
       "    <tr>\n",
       "      <th>sqft_lot</th>\n",
       "      <td>1350</td>\n",
       "      <td>2388</td>\n",
       "      <td>1076</td>\n",
       "      <td>int64</td>\n",
       "    </tr>\n",
       "    <tr>\n",
       "      <th>floors</th>\n",
       "      <td>2.0</td>\n",
       "      <td>2.0</td>\n",
       "      <td>2.0</td>\n",
       "      <td>float64</td>\n",
       "    </tr>\n",
       "    <tr>\n",
       "      <th>waterfront</th>\n",
       "      <td>0</td>\n",
       "      <td>0</td>\n",
       "      <td>0</td>\n",
       "      <td>int64</td>\n",
       "    </tr>\n",
       "    <tr>\n",
       "      <th>view</th>\n",
       "      <td>0</td>\n",
       "      <td>0</td>\n",
       "      <td>0</td>\n",
       "      <td>int64</td>\n",
       "    </tr>\n",
       "    <tr>\n",
       "      <th>condition</th>\n",
       "      <td>3</td>\n",
       "      <td>3</td>\n",
       "      <td>3</td>\n",
       "      <td>int64</td>\n",
       "    </tr>\n",
       "    <tr>\n",
       "      <th>grade</th>\n",
       "      <td>7</td>\n",
       "      <td>8</td>\n",
       "      <td>7</td>\n",
       "      <td>int64</td>\n",
       "    </tr>\n",
       "    <tr>\n",
       "      <th>sqft_above</th>\n",
       "      <td>1020</td>\n",
       "      <td>1600</td>\n",
       "      <td>1020</td>\n",
       "      <td>int64</td>\n",
       "    </tr>\n",
       "    <tr>\n",
       "      <th>sqft_basement</th>\n",
       "      <td>0</td>\n",
       "      <td>0</td>\n",
       "      <td>0</td>\n",
       "      <td>int64</td>\n",
       "    </tr>\n",
       "    <tr>\n",
       "      <th>yr_built</th>\n",
       "      <td>2009</td>\n",
       "      <td>2004</td>\n",
       "      <td>2008</td>\n",
       "      <td>int64</td>\n",
       "    </tr>\n",
       "    <tr>\n",
       "      <th>yr_renovated</th>\n",
       "      <td>0</td>\n",
       "      <td>0</td>\n",
       "      <td>0</td>\n",
       "      <td>int64</td>\n",
       "    </tr>\n",
       "    <tr>\n",
       "      <th>zipcode</th>\n",
       "      <td>98144</td>\n",
       "      <td>98027</td>\n",
       "      <td>98144</td>\n",
       "      <td>int64</td>\n",
       "    </tr>\n",
       "    <tr>\n",
       "      <th>lat</th>\n",
       "      <td>47.5944</td>\n",
       "      <td>47.5345</td>\n",
       "      <td>47.5941</td>\n",
       "      <td>float64</td>\n",
       "    </tr>\n",
       "    <tr>\n",
       "      <th>long</th>\n",
       "      <td>-122.299</td>\n",
       "      <td>-122.069</td>\n",
       "      <td>-122.299</td>\n",
       "      <td>float64</td>\n",
       "    </tr>\n",
       "    <tr>\n",
       "      <th>sqft_living15</th>\n",
       "      <td>1020</td>\n",
       "      <td>1410</td>\n",
       "      <td>1020</td>\n",
       "      <td>int64</td>\n",
       "    </tr>\n",
       "    <tr>\n",
       "      <th>sqft_lot15</th>\n",
       "      <td>2007</td>\n",
       "      <td>1287</td>\n",
       "      <td>1357</td>\n",
       "      <td>int64</td>\n",
       "    </tr>\n",
       "  </tbody>\n",
       "</table>\n",
       "</div>"
      ],
      "text/plain": [
       "                         21610            21611            21612    dtype\n",
       "id                  1523300141        291310100       1523300157    int64\n",
       "date           20140623T000000  20150116T000000  20141015T000000   object\n",
       "price                 402101.0         400000.0         325000.0  float64\n",
       "bedrooms                     2                3                2    int64\n",
       "bathrooms                 0.75              2.5             0.75  float64\n",
       "sqft_living               1020             1600             1020    int64\n",
       "sqft_lot                  1350             2388             1076    int64\n",
       "floors                     2.0              2.0              2.0  float64\n",
       "waterfront                   0                0                0    int64\n",
       "view                         0                0                0    int64\n",
       "condition                    3                3                3    int64\n",
       "grade                        7                8                7    int64\n",
       "sqft_above                1020             1600             1020    int64\n",
       "sqft_basement                0                0                0    int64\n",
       "yr_built                  2009             2004             2008    int64\n",
       "yr_renovated                 0                0                0    int64\n",
       "zipcode                  98144            98027            98144    int64\n",
       "lat                    47.5944          47.5345          47.5941  float64\n",
       "long                  -122.299         -122.069         -122.299  float64\n",
       "sqft_living15             1020             1410             1020    int64\n",
       "sqft_lot15                2007             1287             1357    int64"
      ]
     },
     "execution_count": 18,
     "metadata": {},
     "output_type": "execute_result"
    }
   ],
   "source": [
    "dtype = ['int64','object','float64','int64','float64','int64','int64',\n",
    "         'float64','int64','int64','int64','int64','int64','int64',\n",
    "         'int64','int64','int64','float64','float64','int64','int64']\n",
    "\n",
    "df_dtype = df_house_rocket.tail(3).T\n",
    "df_dtype['dtype'] = dtype\n",
    "df_dtype"
   ]
  },
  {
   "cell_type": "code",
   "execution_count": 19,
   "id": "dd43d0e7",
   "metadata": {
    "ExecuteTime": {
     "end_time": "2021-04-12T23:53:37.088980Z",
     "start_time": "2021-04-12T23:53:37.003869Z"
    },
    "hidden": true
   },
   "outputs": [],
   "source": [
    "# date\n",
    "# objeto para formato data \"datetime\"\n",
    "df_house_rocket['date'] = df_house_rocket['date'].astype('datetime64[ns]').copy()"
   ]
  },
  {
   "cell_type": "markdown",
   "id": "a02abd6c",
   "metadata": {},
   "source": [
    "### 3.3 - Estatística descritiva"
   ]
  },
  {
   "cell_type": "code",
   "execution_count": 20,
   "id": "86ec310c",
   "metadata": {
    "ExecuteTime": {
     "end_time": "2021-04-12T23:53:38.939584Z",
     "start_time": "2021-04-12T23:53:38.738605Z"
    },
    "scrolled": false
   },
   "outputs": [
    {
     "data": {
      "text/html": [
       "<div>\n",
       "<style scoped>\n",
       "    .dataframe tbody tr th:only-of-type {\n",
       "        vertical-align: middle;\n",
       "    }\n",
       "\n",
       "    .dataframe tbody tr th {\n",
       "        vertical-align: top;\n",
       "    }\n",
       "\n",
       "    .dataframe thead th {\n",
       "        text-align: right;\n",
       "    }\n",
       "</style>\n",
       "<table border=\"1\" class=\"dataframe\">\n",
       "  <thead>\n",
       "    <tr style=\"text-align: right;\">\n",
       "      <th></th>\n",
       "      <th>count</th>\n",
       "      <th>mean</th>\n",
       "      <th>std</th>\n",
       "      <th>min</th>\n",
       "      <th>25%</th>\n",
       "      <th>50%</th>\n",
       "      <th>75%</th>\n",
       "      <th>max</th>\n",
       "    </tr>\n",
       "  </thead>\n",
       "  <tbody>\n",
       "    <tr>\n",
       "      <th>price</th>\n",
       "      <td>21613.0</td>\n",
       "      <td>540088.141767</td>\n",
       "      <td>367127.196483</td>\n",
       "      <td>75000.0000</td>\n",
       "      <td>321950.000</td>\n",
       "      <td>450000.0000</td>\n",
       "      <td>645000.000</td>\n",
       "      <td>7.700000e+06</td>\n",
       "    </tr>\n",
       "    <tr>\n",
       "      <th>bedrooms</th>\n",
       "      <td>21613.0</td>\n",
       "      <td>3.370842</td>\n",
       "      <td>0.930062</td>\n",
       "      <td>0.0000</td>\n",
       "      <td>3.000</td>\n",
       "      <td>3.0000</td>\n",
       "      <td>4.000</td>\n",
       "      <td>3.300000e+01</td>\n",
       "    </tr>\n",
       "    <tr>\n",
       "      <th>bathrooms</th>\n",
       "      <td>21613.0</td>\n",
       "      <td>2.114757</td>\n",
       "      <td>0.770163</td>\n",
       "      <td>0.0000</td>\n",
       "      <td>1.750</td>\n",
       "      <td>2.2500</td>\n",
       "      <td>2.500</td>\n",
       "      <td>8.000000e+00</td>\n",
       "    </tr>\n",
       "    <tr>\n",
       "      <th>sqft_living</th>\n",
       "      <td>21613.0</td>\n",
       "      <td>2079.899736</td>\n",
       "      <td>918.440897</td>\n",
       "      <td>290.0000</td>\n",
       "      <td>1427.000</td>\n",
       "      <td>1910.0000</td>\n",
       "      <td>2550.000</td>\n",
       "      <td>1.354000e+04</td>\n",
       "    </tr>\n",
       "    <tr>\n",
       "      <th>sqft_lot</th>\n",
       "      <td>21613.0</td>\n",
       "      <td>15106.967566</td>\n",
       "      <td>41420.511515</td>\n",
       "      <td>520.0000</td>\n",
       "      <td>5040.000</td>\n",
       "      <td>7618.0000</td>\n",
       "      <td>10688.000</td>\n",
       "      <td>1.651359e+06</td>\n",
       "    </tr>\n",
       "    <tr>\n",
       "      <th>floors</th>\n",
       "      <td>21613.0</td>\n",
       "      <td>1.494309</td>\n",
       "      <td>0.539989</td>\n",
       "      <td>1.0000</td>\n",
       "      <td>1.000</td>\n",
       "      <td>1.5000</td>\n",
       "      <td>2.000</td>\n",
       "      <td>3.500000e+00</td>\n",
       "    </tr>\n",
       "    <tr>\n",
       "      <th>waterfront</th>\n",
       "      <td>21613.0</td>\n",
       "      <td>0.007542</td>\n",
       "      <td>0.086517</td>\n",
       "      <td>0.0000</td>\n",
       "      <td>0.000</td>\n",
       "      <td>0.0000</td>\n",
       "      <td>0.000</td>\n",
       "      <td>1.000000e+00</td>\n",
       "    </tr>\n",
       "    <tr>\n",
       "      <th>view</th>\n",
       "      <td>21613.0</td>\n",
       "      <td>0.234303</td>\n",
       "      <td>0.766318</td>\n",
       "      <td>0.0000</td>\n",
       "      <td>0.000</td>\n",
       "      <td>0.0000</td>\n",
       "      <td>0.000</td>\n",
       "      <td>4.000000e+00</td>\n",
       "    </tr>\n",
       "    <tr>\n",
       "      <th>condition</th>\n",
       "      <td>21613.0</td>\n",
       "      <td>3.409430</td>\n",
       "      <td>0.650743</td>\n",
       "      <td>1.0000</td>\n",
       "      <td>3.000</td>\n",
       "      <td>3.0000</td>\n",
       "      <td>4.000</td>\n",
       "      <td>5.000000e+00</td>\n",
       "    </tr>\n",
       "    <tr>\n",
       "      <th>grade</th>\n",
       "      <td>21613.0</td>\n",
       "      <td>7.656873</td>\n",
       "      <td>1.175459</td>\n",
       "      <td>1.0000</td>\n",
       "      <td>7.000</td>\n",
       "      <td>7.0000</td>\n",
       "      <td>8.000</td>\n",
       "      <td>1.300000e+01</td>\n",
       "    </tr>\n",
       "    <tr>\n",
       "      <th>sqft_above</th>\n",
       "      <td>21613.0</td>\n",
       "      <td>1788.390691</td>\n",
       "      <td>828.090978</td>\n",
       "      <td>290.0000</td>\n",
       "      <td>1190.000</td>\n",
       "      <td>1560.0000</td>\n",
       "      <td>2210.000</td>\n",
       "      <td>9.410000e+03</td>\n",
       "    </tr>\n",
       "    <tr>\n",
       "      <th>sqft_basement</th>\n",
       "      <td>21613.0</td>\n",
       "      <td>291.509045</td>\n",
       "      <td>442.575043</td>\n",
       "      <td>0.0000</td>\n",
       "      <td>0.000</td>\n",
       "      <td>0.0000</td>\n",
       "      <td>560.000</td>\n",
       "      <td>4.820000e+03</td>\n",
       "    </tr>\n",
       "    <tr>\n",
       "      <th>yr_built</th>\n",
       "      <td>21613.0</td>\n",
       "      <td>1971.005136</td>\n",
       "      <td>29.373411</td>\n",
       "      <td>1900.0000</td>\n",
       "      <td>1951.000</td>\n",
       "      <td>1975.0000</td>\n",
       "      <td>1997.000</td>\n",
       "      <td>2.015000e+03</td>\n",
       "    </tr>\n",
       "    <tr>\n",
       "      <th>yr_renovated</th>\n",
       "      <td>21613.0</td>\n",
       "      <td>84.402258</td>\n",
       "      <td>401.679240</td>\n",
       "      <td>0.0000</td>\n",
       "      <td>0.000</td>\n",
       "      <td>0.0000</td>\n",
       "      <td>0.000</td>\n",
       "      <td>2.015000e+03</td>\n",
       "    </tr>\n",
       "    <tr>\n",
       "      <th>zipcode</th>\n",
       "      <td>21613.0</td>\n",
       "      <td>98077.939805</td>\n",
       "      <td>53.505026</td>\n",
       "      <td>98001.0000</td>\n",
       "      <td>98033.000</td>\n",
       "      <td>98065.0000</td>\n",
       "      <td>98118.000</td>\n",
       "      <td>9.819900e+04</td>\n",
       "    </tr>\n",
       "    <tr>\n",
       "      <th>lat</th>\n",
       "      <td>21613.0</td>\n",
       "      <td>47.560053</td>\n",
       "      <td>0.138564</td>\n",
       "      <td>47.1559</td>\n",
       "      <td>47.471</td>\n",
       "      <td>47.5718</td>\n",
       "      <td>47.678</td>\n",
       "      <td>4.777760e+01</td>\n",
       "    </tr>\n",
       "    <tr>\n",
       "      <th>long</th>\n",
       "      <td>21613.0</td>\n",
       "      <td>-122.213896</td>\n",
       "      <td>0.140828</td>\n",
       "      <td>-122.5190</td>\n",
       "      <td>-122.328</td>\n",
       "      <td>-122.2300</td>\n",
       "      <td>-122.125</td>\n",
       "      <td>-1.213150e+02</td>\n",
       "    </tr>\n",
       "    <tr>\n",
       "      <th>sqft_living15</th>\n",
       "      <td>21613.0</td>\n",
       "      <td>1986.552492</td>\n",
       "      <td>685.391304</td>\n",
       "      <td>399.0000</td>\n",
       "      <td>1490.000</td>\n",
       "      <td>1840.0000</td>\n",
       "      <td>2360.000</td>\n",
       "      <td>6.210000e+03</td>\n",
       "    </tr>\n",
       "    <tr>\n",
       "      <th>sqft_lot15</th>\n",
       "      <td>21613.0</td>\n",
       "      <td>12768.455652</td>\n",
       "      <td>27304.179631</td>\n",
       "      <td>651.0000</td>\n",
       "      <td>5100.000</td>\n",
       "      <td>7620.0000</td>\n",
       "      <td>10083.000</td>\n",
       "      <td>8.712000e+05</td>\n",
       "    </tr>\n",
       "  </tbody>\n",
       "</table>\n",
       "</div>"
      ],
      "text/plain": [
       "                 count           mean            std         min         25%          50%         75%           max\n",
       "price          21613.0  540088.141767  367127.196483  75000.0000  321950.000  450000.0000  645000.000  7.700000e+06\n",
       "bedrooms       21613.0       3.370842       0.930062      0.0000       3.000       3.0000       4.000  3.300000e+01\n",
       "bathrooms      21613.0       2.114757       0.770163      0.0000       1.750       2.2500       2.500  8.000000e+00\n",
       "sqft_living    21613.0    2079.899736     918.440897    290.0000    1427.000    1910.0000    2550.000  1.354000e+04\n",
       "sqft_lot       21613.0   15106.967566   41420.511515    520.0000    5040.000    7618.0000   10688.000  1.651359e+06\n",
       "floors         21613.0       1.494309       0.539989      1.0000       1.000       1.5000       2.000  3.500000e+00\n",
       "waterfront     21613.0       0.007542       0.086517      0.0000       0.000       0.0000       0.000  1.000000e+00\n",
       "view           21613.0       0.234303       0.766318      0.0000       0.000       0.0000       0.000  4.000000e+00\n",
       "condition      21613.0       3.409430       0.650743      1.0000       3.000       3.0000       4.000  5.000000e+00\n",
       "grade          21613.0       7.656873       1.175459      1.0000       7.000       7.0000       8.000  1.300000e+01\n",
       "sqft_above     21613.0    1788.390691     828.090978    290.0000    1190.000    1560.0000    2210.000  9.410000e+03\n",
       "sqft_basement  21613.0     291.509045     442.575043      0.0000       0.000       0.0000     560.000  4.820000e+03\n",
       "yr_built       21613.0    1971.005136      29.373411   1900.0000    1951.000    1975.0000    1997.000  2.015000e+03\n",
       "yr_renovated   21613.0      84.402258     401.679240      0.0000       0.000       0.0000       0.000  2.015000e+03\n",
       "zipcode        21613.0   98077.939805      53.505026  98001.0000   98033.000   98065.0000   98118.000  9.819900e+04\n",
       "lat            21613.0      47.560053       0.138564     47.1559      47.471      47.5718      47.678  4.777760e+01\n",
       "long           21613.0    -122.213896       0.140828   -122.5190    -122.328    -122.2300    -122.125 -1.213150e+02\n",
       "sqft_living15  21613.0    1986.552492     685.391304    399.0000    1490.000    1840.0000    2360.000  6.210000e+03\n",
       "sqft_lot15     21613.0   12768.455652   27304.179631    651.0000    5100.000    7620.0000   10083.000  8.712000e+05"
      ]
     },
     "execution_count": 20,
     "metadata": {},
     "output_type": "execute_result"
    }
   ],
   "source": [
    "# análise descritiva dos dados \"eliminando o id\"\n",
    "df_house_rocket.drop('id', axis=1).describe().T"
   ]
  },
  {
   "cell_type": "code",
   "execution_count": 26,
   "id": "369aa52c",
   "metadata": {
    "ExecuteTime": {
     "end_time": "2021-04-13T00:00:35.191720Z",
     "start_time": "2021-04-13T00:00:35.175405Z"
    }
   },
   "outputs": [
    {
     "data": {
      "text/plain": [
       "177"
      ]
     },
     "execution_count": 26,
     "metadata": {},
     "output_type": "execute_result"
    }
   ],
   "source": [
    "# Soma de registros duplicados\n",
    "df_house_rocket['id'].duplicated().sum()"
   ]
  },
  {
   "cell_type": "markdown",
   "id": "319efc1f",
   "metadata": {},
   "source": [
    "- Registros duplicados\n",
    "    - 177 registros duplicados, com isso vamos agrupar para ver se o preço muda"
   ]
  },
  {
   "cell_type": "code",
   "execution_count": 34,
   "id": "a2c07048",
   "metadata": {
    "ExecuteTime": {
     "end_time": "2021-04-13T00:07:10.972902Z",
     "start_time": "2021-04-13T00:07:10.951746Z"
    }
   },
   "outputs": [
    {
     "data": {
      "text/html": [
       "<div>\n",
       "<style scoped>\n",
       "    .dataframe tbody tr th:only-of-type {\n",
       "        vertical-align: middle;\n",
       "    }\n",
       "\n",
       "    .dataframe tbody tr th {\n",
       "        vertical-align: top;\n",
       "    }\n",
       "\n",
       "    .dataframe thead th {\n",
       "        text-align: right;\n",
       "    }\n",
       "</style>\n",
       "<table border=\"1\" class=\"dataframe\">\n",
       "  <thead>\n",
       "    <tr style=\"text-align: right;\">\n",
       "      <th></th>\n",
       "      <th>price</th>\n",
       "      <th>date</th>\n",
       "    </tr>\n",
       "    <tr>\n",
       "      <th>id</th>\n",
       "      <th></th>\n",
       "      <th></th>\n",
       "    </tr>\n",
       "  </thead>\n",
       "  <tbody>\n",
       "    <tr>\n",
       "      <th>795000620</th>\n",
       "      <td>3</td>\n",
       "      <td>3</td>\n",
       "    </tr>\n",
       "    <tr>\n",
       "      <th>1000102</th>\n",
       "      <td>2</td>\n",
       "      <td>2</td>\n",
       "    </tr>\n",
       "    <tr>\n",
       "      <th>3578401060</th>\n",
       "      <td>2</td>\n",
       "      <td>2</td>\n",
       "    </tr>\n",
       "    <tr>\n",
       "      <th>3528000040</th>\n",
       "      <td>2</td>\n",
       "      <td>2</td>\n",
       "    </tr>\n",
       "    <tr>\n",
       "      <th>4345000510</th>\n",
       "      <td>2</td>\n",
       "      <td>2</td>\n",
       "    </tr>\n",
       "  </tbody>\n",
       "</table>\n",
       "</div>"
      ],
      "text/plain": [
       "            price  date\n",
       "id                     \n",
       "795000620       3     3\n",
       "1000102         2     2\n",
       "3578401060      2     2\n",
       "3528000040      2     2\n",
       "4345000510      2     2"
      ]
     },
     "execution_count": 34,
     "metadata": {},
     "output_type": "execute_result"
    }
   ],
   "source": [
    "# agrupamento para contar os campos id que estejam duplicados ordenados por maior contagem\n",
    "df_house_rocket[['id', 'price', 'date']].groupby(by=['id']).count().sort_values(by='price', ascending=False).head()"
   ]
  },
  {
   "cell_type": "markdown",
   "id": "9e5563ea",
   "metadata": {},
   "source": [
    "- Vamos pegar o primeiro registro acima e ver os dados duplicados para analisar\n",
    "    - 795000620\n",
    "        - como pode ver abaixo; todos os dados se repetem com exceção de date e price, e tem lógica de negócio, visto que os imóveis tentem a valorizar ao longo dos anos, com isso, a data mais atuliazada estará mais cara.\n",
    "        - Solução aqui será pegar a data mais atualizada e eliminar as outras datas."
   ]
  },
  {
   "cell_type": "code",
   "execution_count": 35,
   "id": "ed3338d3",
   "metadata": {
    "ExecuteTime": {
     "end_time": "2021-04-13T00:09:39.491970Z",
     "start_time": "2021-04-13T00:09:39.454390Z"
    }
   },
   "outputs": [
    {
     "data": {
      "text/html": [
       "<div>\n",
       "<style scoped>\n",
       "    .dataframe tbody tr th:only-of-type {\n",
       "        vertical-align: middle;\n",
       "    }\n",
       "\n",
       "    .dataframe tbody tr th {\n",
       "        vertical-align: top;\n",
       "    }\n",
       "\n",
       "    .dataframe thead th {\n",
       "        text-align: right;\n",
       "    }\n",
       "</style>\n",
       "<table border=\"1\" class=\"dataframe\">\n",
       "  <thead>\n",
       "    <tr style=\"text-align: right;\">\n",
       "      <th></th>\n",
       "      <th>id</th>\n",
       "      <th>date</th>\n",
       "      <th>price</th>\n",
       "      <th>bedrooms</th>\n",
       "      <th>bathrooms</th>\n",
       "      <th>sqft_living</th>\n",
       "      <th>sqft_lot</th>\n",
       "      <th>floors</th>\n",
       "      <th>waterfront</th>\n",
       "      <th>view</th>\n",
       "      <th>condition</th>\n",
       "      <th>grade</th>\n",
       "      <th>sqft_above</th>\n",
       "      <th>sqft_basement</th>\n",
       "      <th>yr_built</th>\n",
       "      <th>yr_renovated</th>\n",
       "      <th>zipcode</th>\n",
       "      <th>lat</th>\n",
       "      <th>long</th>\n",
       "      <th>sqft_living15</th>\n",
       "      <th>sqft_lot15</th>\n",
       "    </tr>\n",
       "  </thead>\n",
       "  <tbody>\n",
       "    <tr>\n",
       "      <th>17602</th>\n",
       "      <td>795000620</td>\n",
       "      <td>2014-09-24</td>\n",
       "      <td>115000.0</td>\n",
       "      <td>3</td>\n",
       "      <td>1.0</td>\n",
       "      <td>1080</td>\n",
       "      <td>6250</td>\n",
       "      <td>1.0</td>\n",
       "      <td>0</td>\n",
       "      <td>0</td>\n",
       "      <td>2</td>\n",
       "      <td>5</td>\n",
       "      <td>1080</td>\n",
       "      <td>0</td>\n",
       "      <td>1950</td>\n",
       "      <td>0</td>\n",
       "      <td>98168</td>\n",
       "      <td>47.5045</td>\n",
       "      <td>-122.33</td>\n",
       "      <td>1070</td>\n",
       "      <td>6250</td>\n",
       "    </tr>\n",
       "    <tr>\n",
       "      <th>17603</th>\n",
       "      <td>795000620</td>\n",
       "      <td>2014-12-15</td>\n",
       "      <td>124000.0</td>\n",
       "      <td>3</td>\n",
       "      <td>1.0</td>\n",
       "      <td>1080</td>\n",
       "      <td>6250</td>\n",
       "      <td>1.0</td>\n",
       "      <td>0</td>\n",
       "      <td>0</td>\n",
       "      <td>2</td>\n",
       "      <td>5</td>\n",
       "      <td>1080</td>\n",
       "      <td>0</td>\n",
       "      <td>1950</td>\n",
       "      <td>0</td>\n",
       "      <td>98168</td>\n",
       "      <td>47.5045</td>\n",
       "      <td>-122.33</td>\n",
       "      <td>1070</td>\n",
       "      <td>6250</td>\n",
       "    </tr>\n",
       "    <tr>\n",
       "      <th>17604</th>\n",
       "      <td>795000620</td>\n",
       "      <td>2015-03-11</td>\n",
       "      <td>157000.0</td>\n",
       "      <td>3</td>\n",
       "      <td>1.0</td>\n",
       "      <td>1080</td>\n",
       "      <td>6250</td>\n",
       "      <td>1.0</td>\n",
       "      <td>0</td>\n",
       "      <td>0</td>\n",
       "      <td>2</td>\n",
       "      <td>5</td>\n",
       "      <td>1080</td>\n",
       "      <td>0</td>\n",
       "      <td>1950</td>\n",
       "      <td>0</td>\n",
       "      <td>98168</td>\n",
       "      <td>47.5045</td>\n",
       "      <td>-122.33</td>\n",
       "      <td>1070</td>\n",
       "      <td>6250</td>\n",
       "    </tr>\n",
       "  </tbody>\n",
       "</table>\n",
       "</div>"
      ],
      "text/plain": [
       "              id       date     price  bedrooms  bathrooms  sqft_living  sqft_lot  floors  waterfront  view  condition  grade  sqft_above  sqft_basement  yr_built  yr_renovated  zipcode      lat    long  sqft_living15  sqft_lot15\n",
       "17602  795000620 2014-09-24  115000.0         3        1.0         1080      6250     1.0           0     0          2      5        1080              0      1950             0    98168  47.5045 -122.33           1070        6250\n",
       "17603  795000620 2014-12-15  124000.0         3        1.0         1080      6250     1.0           0     0          2      5        1080              0      1950             0    98168  47.5045 -122.33           1070        6250\n",
       "17604  795000620 2015-03-11  157000.0         3        1.0         1080      6250     1.0           0     0          2      5        1080              0      1950             0    98168  47.5045 -122.33           1070        6250"
      ]
     },
     "execution_count": 35,
     "metadata": {},
     "output_type": "execute_result"
    }
   ],
   "source": [
    "df_house_rocket[df_house_rocket['id'] == 795000620]"
   ]
  },
  {
   "cell_type": "code",
   "execution_count": 56,
   "id": "31f075f6",
   "metadata": {
    "ExecuteTime": {
     "end_time": "2021-04-13T00:28:11.344146Z",
     "start_time": "2021-04-13T00:28:11.339191Z"
    }
   },
   "outputs": [],
   "source": [
    "# passar pelas linhas e se o registro for igual a data max então retorna o valor da linha else 0\n",
    "\n",
    "# transformar a data em inteiro para poder comparar os valores\n",
    "df_house_rocket['date_int'] = df_house_rocket['date'].astype('int')"
   ]
  },
  {
   "cell_type": "code",
   "execution_count": 71,
   "id": "fd794684",
   "metadata": {
    "ExecuteTime": {
     "end_time": "2021-04-13T00:51:36.478672Z",
     "start_time": "2021-04-13T00:51:36.445292Z"
    }
   },
   "outputs": [
    {
     "data": {
      "text/html": [
       "<div>\n",
       "<style scoped>\n",
       "    .dataframe tbody tr th:only-of-type {\n",
       "        vertical-align: middle;\n",
       "    }\n",
       "\n",
       "    .dataframe tbody tr th {\n",
       "        vertical-align: top;\n",
       "    }\n",
       "\n",
       "    .dataframe thead th {\n",
       "        text-align: right;\n",
       "    }\n",
       "</style>\n",
       "<table border=\"1\" class=\"dataframe\">\n",
       "  <thead>\n",
       "    <tr style=\"text-align: right;\">\n",
       "      <th></th>\n",
       "      <th>date</th>\n",
       "      <th>price</th>\n",
       "    </tr>\n",
       "    <tr>\n",
       "      <th>id</th>\n",
       "      <th></th>\n",
       "      <th></th>\n",
       "    </tr>\n",
       "  </thead>\n",
       "  <tbody>\n",
       "    <tr>\n",
       "      <th>9842300095</th>\n",
       "      <td>2014-07-25</td>\n",
       "      <td>365000.0</td>\n",
       "    </tr>\n",
       "    <tr>\n",
       "      <th>9842300485</th>\n",
       "      <td>2015-03-11</td>\n",
       "      <td>380000.0</td>\n",
       "    </tr>\n",
       "    <tr>\n",
       "      <th>9842300540</th>\n",
       "      <td>2014-06-24</td>\n",
       "      <td>339000.0</td>\n",
       "    </tr>\n",
       "    <tr>\n",
       "      <th>9895000040</th>\n",
       "      <td>2014-07-03</td>\n",
       "      <td>399900.0</td>\n",
       "    </tr>\n",
       "    <tr>\n",
       "      <th>9900000190</th>\n",
       "      <td>2014-10-30</td>\n",
       "      <td>268950.0</td>\n",
       "    </tr>\n",
       "  </tbody>\n",
       "</table>\n",
       "</div>"
      ],
      "text/plain": [
       "                 date     price\n",
       "id                             \n",
       "9842300095 2014-07-25  365000.0\n",
       "9842300485 2015-03-11  380000.0\n",
       "9842300540 2014-06-24  339000.0\n",
       "9895000040 2014-07-03  399900.0\n",
       "9900000190 2014-10-30  268950.0"
      ]
     },
     "execution_count": 71,
     "metadata": {},
     "output_type": "execute_result"
    }
   ],
   "source": [
    "df_house_rocket[['id', 'date', 'price']].groupby(by=['id']).count().sort_values(by='price')"
   ]
  },
  {
   "cell_type": "code",
   "execution_count": 73,
   "id": "cc22f048",
   "metadata": {
    "ExecuteTime": {
     "end_time": "2021-04-13T00:53:35.454535Z",
     "start_time": "2021-04-13T00:53:35.418145Z"
    }
   },
   "outputs": [
    {
     "data": {
      "text/html": [
       "<div>\n",
       "<style scoped>\n",
       "    .dataframe tbody tr th:only-of-type {\n",
       "        vertical-align: middle;\n",
       "    }\n",
       "\n",
       "    .dataframe tbody tr th {\n",
       "        vertical-align: top;\n",
       "    }\n",
       "\n",
       "    .dataframe thead th {\n",
       "        text-align: right;\n",
       "    }\n",
       "</style>\n",
       "<table border=\"1\" class=\"dataframe\">\n",
       "  <thead>\n",
       "    <tr style=\"text-align: right;\">\n",
       "      <th></th>\n",
       "      <th>date</th>\n",
       "      <th>price</th>\n",
       "    </tr>\n",
       "    <tr>\n",
       "      <th>id</th>\n",
       "      <th></th>\n",
       "      <th></th>\n",
       "    </tr>\n",
       "  </thead>\n",
       "  <tbody>\n",
       "    <tr>\n",
       "      <th>795000620</th>\n",
       "      <td>3</td>\n",
       "      <td>3</td>\n",
       "    </tr>\n",
       "    <tr>\n",
       "      <th>1000102</th>\n",
       "      <td>2</td>\n",
       "      <td>2</td>\n",
       "    </tr>\n",
       "    <tr>\n",
       "      <th>3578401060</th>\n",
       "      <td>2</td>\n",
       "      <td>2</td>\n",
       "    </tr>\n",
       "    <tr>\n",
       "      <th>3528000040</th>\n",
       "      <td>2</td>\n",
       "      <td>2</td>\n",
       "    </tr>\n",
       "    <tr>\n",
       "      <th>4345000510</th>\n",
       "      <td>2</td>\n",
       "      <td>2</td>\n",
       "    </tr>\n",
       "  </tbody>\n",
       "</table>\n",
       "</div>"
      ],
      "text/plain": [
       "            date  price\n",
       "id                     \n",
       "795000620      3      3\n",
       "1000102        2      2\n",
       "3578401060     2      2\n",
       "3528000040     2      2\n",
       "4345000510     2      2"
      ]
     },
     "execution_count": 73,
     "metadata": {},
     "output_type": "execute_result"
    }
   ],
   "source": [
    "df_house_rocket[['id', 'date', 'price']].groupby(by=['id']).count().sort_values(by='price', ascending=False).head()"
   ]
  },
  {
   "cell_type": "code",
   "execution_count": 75,
   "id": "9a01cc16",
   "metadata": {
    "ExecuteTime": {
     "end_time": "2021-04-13T00:54:12.434041Z",
     "start_time": "2021-04-13T00:54:12.403222Z"
    }
   },
   "outputs": [
    {
     "data": {
      "text/html": [
       "<div>\n",
       "<style scoped>\n",
       "    .dataframe tbody tr th:only-of-type {\n",
       "        vertical-align: middle;\n",
       "    }\n",
       "\n",
       "    .dataframe tbody tr th {\n",
       "        vertical-align: top;\n",
       "    }\n",
       "\n",
       "    .dataframe thead th {\n",
       "        text-align: right;\n",
       "    }\n",
       "</style>\n",
       "<table border=\"1\" class=\"dataframe\">\n",
       "  <thead>\n",
       "    <tr style=\"text-align: right;\">\n",
       "      <th></th>\n",
       "      <th>id</th>\n",
       "      <th>date</th>\n",
       "      <th>price</th>\n",
       "      <th>bedrooms</th>\n",
       "      <th>bathrooms</th>\n",
       "      <th>sqft_living</th>\n",
       "      <th>sqft_lot</th>\n",
       "      <th>floors</th>\n",
       "      <th>waterfront</th>\n",
       "      <th>view</th>\n",
       "      <th>condition</th>\n",
       "      <th>grade</th>\n",
       "      <th>sqft_above</th>\n",
       "      <th>sqft_basement</th>\n",
       "      <th>yr_built</th>\n",
       "      <th>yr_renovated</th>\n",
       "      <th>zipcode</th>\n",
       "      <th>lat</th>\n",
       "      <th>long</th>\n",
       "      <th>sqft_living15</th>\n",
       "      <th>sqft_lot15</th>\n",
       "      <th>date_int</th>\n",
       "    </tr>\n",
       "  </thead>\n",
       "  <tbody>\n",
       "    <tr>\n",
       "      <th>17602</th>\n",
       "      <td>795000620</td>\n",
       "      <td>2014-09-24</td>\n",
       "      <td>115000.0</td>\n",
       "      <td>3</td>\n",
       "      <td>1.0</td>\n",
       "      <td>1080</td>\n",
       "      <td>6250</td>\n",
       "      <td>1.0</td>\n",
       "      <td>0</td>\n",
       "      <td>0</td>\n",
       "      <td>2</td>\n",
       "      <td>5</td>\n",
       "      <td>1080</td>\n",
       "      <td>0</td>\n",
       "      <td>1950</td>\n",
       "      <td>0</td>\n",
       "      <td>98168</td>\n",
       "      <td>47.5045</td>\n",
       "      <td>-122.33</td>\n",
       "      <td>1070</td>\n",
       "      <td>6250</td>\n",
       "      <td>1411516800000000000</td>\n",
       "    </tr>\n",
       "    <tr>\n",
       "      <th>17603</th>\n",
       "      <td>795000620</td>\n",
       "      <td>2014-12-15</td>\n",
       "      <td>124000.0</td>\n",
       "      <td>3</td>\n",
       "      <td>1.0</td>\n",
       "      <td>1080</td>\n",
       "      <td>6250</td>\n",
       "      <td>1.0</td>\n",
       "      <td>0</td>\n",
       "      <td>0</td>\n",
       "      <td>2</td>\n",
       "      <td>5</td>\n",
       "      <td>1080</td>\n",
       "      <td>0</td>\n",
       "      <td>1950</td>\n",
       "      <td>0</td>\n",
       "      <td>98168</td>\n",
       "      <td>47.5045</td>\n",
       "      <td>-122.33</td>\n",
       "      <td>1070</td>\n",
       "      <td>6250</td>\n",
       "      <td>1418601600000000000</td>\n",
       "    </tr>\n",
       "    <tr>\n",
       "      <th>17604</th>\n",
       "      <td>795000620</td>\n",
       "      <td>2015-03-11</td>\n",
       "      <td>157000.0</td>\n",
       "      <td>3</td>\n",
       "      <td>1.0</td>\n",
       "      <td>1080</td>\n",
       "      <td>6250</td>\n",
       "      <td>1.0</td>\n",
       "      <td>0</td>\n",
       "      <td>0</td>\n",
       "      <td>2</td>\n",
       "      <td>5</td>\n",
       "      <td>1080</td>\n",
       "      <td>0</td>\n",
       "      <td>1950</td>\n",
       "      <td>0</td>\n",
       "      <td>98168</td>\n",
       "      <td>47.5045</td>\n",
       "      <td>-122.33</td>\n",
       "      <td>1070</td>\n",
       "      <td>6250</td>\n",
       "      <td>1426032000000000000</td>\n",
       "    </tr>\n",
       "  </tbody>\n",
       "</table>\n",
       "</div>"
      ],
      "text/plain": [
       "              id       date     price  bedrooms  bathrooms  sqft_living  sqft_lot  floors  waterfront  view  condition  grade  sqft_above  sqft_basement  yr_built  yr_renovated  zipcode      lat    long  sqft_living15  sqft_lot15             date_int\n",
       "17602  795000620 2014-09-24  115000.0         3        1.0         1080      6250     1.0           0     0          2      5        1080              0      1950             0    98168  47.5045 -122.33           1070        6250  1411516800000000000\n",
       "17603  795000620 2014-12-15  124000.0         3        1.0         1080      6250     1.0           0     0          2      5        1080              0      1950             0    98168  47.5045 -122.33           1070        6250  1418601600000000000\n",
       "17604  795000620 2015-03-11  157000.0         3        1.0         1080      6250     1.0           0     0          2      5        1080              0      1950             0    98168  47.5045 -122.33           1070        6250  1426032000000000000"
      ]
     },
     "execution_count": 75,
     "metadata": {},
     "output_type": "execute_result"
    }
   ],
   "source": [
    "df_house_rocket[df_house_rocket['id'] == 795000620]"
   ]
  },
  {
   "cell_type": "code",
   "execution_count": 39,
   "id": "2641f9c7",
   "metadata": {
    "ExecuteTime": {
     "end_time": "2021-04-13T00:17:06.780433Z",
     "start_time": "2021-04-13T00:17:06.758246Z"
    }
   },
   "outputs": [
    {
     "data": {
      "text/html": [
       "<div>\n",
       "<style scoped>\n",
       "    .dataframe tbody tr th:only-of-type {\n",
       "        vertical-align: middle;\n",
       "    }\n",
       "\n",
       "    .dataframe tbody tr th {\n",
       "        vertical-align: top;\n",
       "    }\n",
       "\n",
       "    .dataframe thead th {\n",
       "        text-align: right;\n",
       "    }\n",
       "</style>\n",
       "<table border=\"1\" class=\"dataframe\">\n",
       "  <thead>\n",
       "    <tr style=\"text-align: right;\">\n",
       "      <th></th>\n",
       "      <th>id</th>\n",
       "      <th>date</th>\n",
       "      <th>price</th>\n",
       "      <th>bedrooms</th>\n",
       "      <th>bathrooms</th>\n",
       "      <th>sqft_living</th>\n",
       "      <th>sqft_lot</th>\n",
       "      <th>floors</th>\n",
       "      <th>waterfront</th>\n",
       "      <th>view</th>\n",
       "      <th>condition</th>\n",
       "      <th>grade</th>\n",
       "      <th>sqft_above</th>\n",
       "      <th>sqft_basement</th>\n",
       "      <th>yr_built</th>\n",
       "      <th>yr_renovated</th>\n",
       "      <th>zipcode</th>\n",
       "      <th>lat</th>\n",
       "      <th>long</th>\n",
       "      <th>sqft_living15</th>\n",
       "      <th>sqft_lot15</th>\n",
       "    </tr>\n",
       "  </thead>\n",
       "  <tbody>\n",
       "    <tr>\n",
       "      <th>21608</th>\n",
       "      <td>263000018</td>\n",
       "      <td>2014-05-21</td>\n",
       "      <td>360000.0</td>\n",
       "      <td>3</td>\n",
       "      <td>2.50</td>\n",
       "      <td>1530</td>\n",
       "      <td>1131</td>\n",
       "      <td>3.0</td>\n",
       "      <td>0</td>\n",
       "      <td>0</td>\n",
       "      <td>3</td>\n",
       "      <td>8</td>\n",
       "      <td>1530</td>\n",
       "      <td>0</td>\n",
       "      <td>2009</td>\n",
       "      <td>0</td>\n",
       "      <td>98103</td>\n",
       "      <td>47.6993</td>\n",
       "      <td>-122.346</td>\n",
       "      <td>1530</td>\n",
       "      <td>1509</td>\n",
       "    </tr>\n",
       "    <tr>\n",
       "      <th>21609</th>\n",
       "      <td>6600060120</td>\n",
       "      <td>2015-02-23</td>\n",
       "      <td>400000.0</td>\n",
       "      <td>4</td>\n",
       "      <td>2.50</td>\n",
       "      <td>2310</td>\n",
       "      <td>5813</td>\n",
       "      <td>2.0</td>\n",
       "      <td>0</td>\n",
       "      <td>0</td>\n",
       "      <td>3</td>\n",
       "      <td>8</td>\n",
       "      <td>2310</td>\n",
       "      <td>0</td>\n",
       "      <td>2014</td>\n",
       "      <td>0</td>\n",
       "      <td>98146</td>\n",
       "      <td>47.5107</td>\n",
       "      <td>-122.362</td>\n",
       "      <td>1830</td>\n",
       "      <td>7200</td>\n",
       "    </tr>\n",
       "    <tr>\n",
       "      <th>21610</th>\n",
       "      <td>1523300141</td>\n",
       "      <td>2014-06-23</td>\n",
       "      <td>402101.0</td>\n",
       "      <td>2</td>\n",
       "      <td>0.75</td>\n",
       "      <td>1020</td>\n",
       "      <td>1350</td>\n",
       "      <td>2.0</td>\n",
       "      <td>0</td>\n",
       "      <td>0</td>\n",
       "      <td>3</td>\n",
       "      <td>7</td>\n",
       "      <td>1020</td>\n",
       "      <td>0</td>\n",
       "      <td>2009</td>\n",
       "      <td>0</td>\n",
       "      <td>98144</td>\n",
       "      <td>47.5944</td>\n",
       "      <td>-122.299</td>\n",
       "      <td>1020</td>\n",
       "      <td>2007</td>\n",
       "    </tr>\n",
       "    <tr>\n",
       "      <th>21611</th>\n",
       "      <td>291310100</td>\n",
       "      <td>2015-01-16</td>\n",
       "      <td>400000.0</td>\n",
       "      <td>3</td>\n",
       "      <td>2.50</td>\n",
       "      <td>1600</td>\n",
       "      <td>2388</td>\n",
       "      <td>2.0</td>\n",
       "      <td>0</td>\n",
       "      <td>0</td>\n",
       "      <td>3</td>\n",
       "      <td>8</td>\n",
       "      <td>1600</td>\n",
       "      <td>0</td>\n",
       "      <td>2004</td>\n",
       "      <td>0</td>\n",
       "      <td>98027</td>\n",
       "      <td>47.5345</td>\n",
       "      <td>-122.069</td>\n",
       "      <td>1410</td>\n",
       "      <td>1287</td>\n",
       "    </tr>\n",
       "    <tr>\n",
       "      <th>21612</th>\n",
       "      <td>1523300157</td>\n",
       "      <td>2014-10-15</td>\n",
       "      <td>325000.0</td>\n",
       "      <td>2</td>\n",
       "      <td>0.75</td>\n",
       "      <td>1020</td>\n",
       "      <td>1076</td>\n",
       "      <td>2.0</td>\n",
       "      <td>0</td>\n",
       "      <td>0</td>\n",
       "      <td>3</td>\n",
       "      <td>7</td>\n",
       "      <td>1020</td>\n",
       "      <td>0</td>\n",
       "      <td>2008</td>\n",
       "      <td>0</td>\n",
       "      <td>98144</td>\n",
       "      <td>47.5941</td>\n",
       "      <td>-122.299</td>\n",
       "      <td>1020</td>\n",
       "      <td>1357</td>\n",
       "    </tr>\n",
       "  </tbody>\n",
       "</table>\n",
       "</div>"
      ],
      "text/plain": [
       "               id       date     price  bedrooms  bathrooms  sqft_living  sqft_lot  floors  waterfront  view  condition  grade  sqft_above  sqft_basement  yr_built  yr_renovated  zipcode      lat     long  sqft_living15  sqft_lot15\n",
       "21608   263000018 2014-05-21  360000.0         3       2.50         1530      1131     3.0           0     0          3      8        1530              0      2009             0    98103  47.6993 -122.346           1530        1509\n",
       "21609  6600060120 2015-02-23  400000.0         4       2.50         2310      5813     2.0           0     0          3      8        2310              0      2014             0    98146  47.5107 -122.362           1830        7200\n",
       "21610  1523300141 2014-06-23  402101.0         2       0.75         1020      1350     2.0           0     0          3      7        1020              0      2009             0    98144  47.5944 -122.299           1020        2007\n",
       "21611   291310100 2015-01-16  400000.0         3       2.50         1600      2388     2.0           0     0          3      8        1600              0      2004             0    98027  47.5345 -122.069           1410        1287\n",
       "21612  1523300157 2014-10-15  325000.0         2       0.75         1020      1076     2.0           0     0          3      7        1020              0      2008             0    98144  47.5941 -122.299           1020        1357"
      ]
     },
     "execution_count": 39,
     "metadata": {},
     "output_type": "execute_result"
    }
   ],
   "source": [
    "df_house_rocket.tail()"
   ]
  },
  {
   "cell_type": "code",
   "execution_count": 37,
   "id": "aeab5505",
   "metadata": {
    "ExecuteTime": {
     "end_time": "2021-04-13T00:14:51.216794Z",
     "start_time": "2021-04-13T00:14:51.203608Z"
    }
   },
   "outputs": [
    {
     "data": {
      "text/plain": [
       "(177, 21)"
      ]
     },
     "execution_count": 37,
     "metadata": {},
     "output_type": "execute_result"
    }
   ],
   "source": [
    "\n",
    "# pegar os números \n",
    "df_house_rocket[df_house_rocket.id.duplicated() == True]"
   ]
  },
  {
   "cell_type": "code",
   "execution_count": 27,
   "id": "cea897d9",
   "metadata": {
    "ExecuteTime": {
     "end_time": "2021-04-13T00:02:17.417396Z",
     "start_time": "2021-04-13T00:02:17.363911Z"
    }
   },
   "outputs": [
    {
     "data": {
      "text/plain": [
       "(21436, 21)"
      ]
     },
     "execution_count": 27,
     "metadata": {},
     "output_type": "execute_result"
    }
   ],
   "source": [
    "\n",
    "df_house_rocket[df_house_rocket['id'].duplicated() == False].shape"
   ]
  },
  {
   "cell_type": "markdown",
   "id": "839e0d6c",
   "metadata": {},
   "source": [
    "## 3.0 - Análise Exploratória"
   ]
  },
  {
   "cell_type": "markdown",
   "id": "7764d04b",
   "metadata": {},
   "source": [
    "### 3.1 - Respostas das perguntas de negócio"
   ]
  },
  {
   "cell_type": "code",
   "execution_count": 237,
   "id": "cf3def17",
   "metadata": {
    "ExecuteTime": {
     "end_time": "2021-04-09T15:44:27.867314Z",
     "start_time": "2021-04-09T15:44:27.849516Z"
    }
   },
   "outputs": [
    {
     "name": "stdout",
     "output_type": "stream",
     "text": [
      "     Total de registros: 21613\n",
      "Total de IDs duplicados: 177\n",
      " Total real de casas disponíveis: 21436\n"
     ]
    }
   ],
   "source": [
    "# 1. Quantas casas estão disponíveis para compra?\n",
    "    # R: 21436\n",
    "\n",
    "# Quantidades de registros e quantidade de registros duplicados\n",
    "print(f'     Total de registros: {df_house_rocket.shape[0]}')\n",
    "print(f'Total de IDs duplicados: {df_house_rocket[\"id\"].duplicated().sum()}')\n",
    "\n",
    "# 21613 casas disponíveis para venda, porém, existem id duplicados, então teremos 21613 - 177 duplicados \n",
    "print(f' Total real de casas disponíveis: {df_house_rocket.shape[0] - df_house_rocket[\"id\"].duplicated().sum()}')"
   ]
  },
  {
   "cell_type": "code",
   "execution_count": 238,
   "id": "8e9c7f2c",
   "metadata": {
    "ExecuteTime": {
     "end_time": "2021-04-09T15:51:07.323061Z",
     "start_time": "2021-04-09T15:51:07.310920Z"
    }
   },
   "outputs": [
    {
     "data": {
      "text/plain": [
       "21"
      ]
     },
     "execution_count": 238,
     "metadata": {},
     "output_type": "execute_result"
    }
   ],
   "source": [
    "# 2. Quantos atributos as casas possuem? como não foi explicito, consideramos o id.\n",
    "    # R: 21\n",
    "df_house_rocket.shape[1]"
   ]
  },
  {
   "cell_type": "code",
   "execution_count": 239,
   "id": "abb39536",
   "metadata": {
    "ExecuteTime": {
     "end_time": "2021-04-09T16:27:10.672294Z",
     "start_time": "2021-04-09T16:27:10.665380Z"
    }
   },
   "outputs": [
    {
     "data": {
      "text/plain": [
       "Index(['id', 'date', 'price', 'bedrooms', 'bathrooms', 'sqft_living',\n",
       "       'sqft_lot', 'floors', 'waterfront', 'view', 'condition', 'grade',\n",
       "       'sqft_above', 'sqft_basement', 'yr_built', 'yr_renovated', 'zipcode',\n",
       "       'lat', 'long', 'sqft_living15', 'sqft_lot15'],\n",
       "      dtype='object')"
      ]
     },
     "execution_count": 239,
     "metadata": {},
     "output_type": "execute_result"
    }
   ],
   "source": [
    "# 3. Quais são os atributos das casas?\n",
    "#     - R: ['id', 'date', 'price', 'bedrooms', 'bathrooms', 'sqft_living',\n",
    "#       'sqft_lot', 'floors', 'waterfront', 'view', 'condition', 'grade',\n",
    "#       'sqft_above', 'sqft_basement', 'yr_built', 'yr_renovated', 'zipcode',\n",
    "#       'lat', 'long', 'sqft_living15', 'sqft_lot15']\n",
    "\n",
    "df_house_rocket.columns"
   ]
  },
  {
   "cell_type": "code",
   "execution_count": 249,
   "id": "308a2ee9",
   "metadata": {
    "ExecuteTime": {
     "end_time": "2021-04-09T16:38:30.224768Z",
     "start_time": "2021-04-09T16:38:30.196036Z"
    }
   },
   "outputs": [
    {
     "data": {
      "text/html": [
       "<div>\n",
       "<style scoped>\n",
       "    .dataframe tbody tr th:only-of-type {\n",
       "        vertical-align: middle;\n",
       "    }\n",
       "\n",
       "    .dataframe tbody tr th {\n",
       "        vertical-align: top;\n",
       "    }\n",
       "\n",
       "    .dataframe thead th {\n",
       "        text-align: right;\n",
       "    }\n",
       "</style>\n",
       "<table border=\"1\" class=\"dataframe\">\n",
       "  <thead>\n",
       "    <tr style=\"text-align: right;\">\n",
       "      <th></th>\n",
       "      <th>id</th>\n",
       "      <th>date</th>\n",
       "      <th>price</th>\n",
       "      <th>bedrooms</th>\n",
       "      <th>bathrooms</th>\n",
       "      <th>sqft_living</th>\n",
       "      <th>sqft_lot</th>\n",
       "      <th>floors</th>\n",
       "      <th>waterfront</th>\n",
       "      <th>view</th>\n",
       "      <th>...</th>\n",
       "      <th>grade</th>\n",
       "      <th>sqft_above</th>\n",
       "      <th>sqft_basement</th>\n",
       "      <th>yr_built</th>\n",
       "      <th>yr_renovated</th>\n",
       "      <th>zipcode</th>\n",
       "      <th>lat</th>\n",
       "      <th>long</th>\n",
       "      <th>sqft_living15</th>\n",
       "      <th>sqft_lot15</th>\n",
       "    </tr>\n",
       "  </thead>\n",
       "  <tbody>\n",
       "    <tr>\n",
       "      <th>7252</th>\n",
       "      <td>6762700020</td>\n",
       "      <td>2014-10-13</td>\n",
       "      <td>7700000.0</td>\n",
       "      <td>6</td>\n",
       "      <td>8.0</td>\n",
       "      <td>12050</td>\n",
       "      <td>27600</td>\n",
       "      <td>2.5</td>\n",
       "      <td>0</td>\n",
       "      <td>3</td>\n",
       "      <td>...</td>\n",
       "      <td>13</td>\n",
       "      <td>8570</td>\n",
       "      <td>3480</td>\n",
       "      <td>1910</td>\n",
       "      <td>1987</td>\n",
       "      <td>98102</td>\n",
       "      <td>47.6298</td>\n",
       "      <td>-122.323</td>\n",
       "      <td>3940</td>\n",
       "      <td>8800</td>\n",
       "    </tr>\n",
       "  </tbody>\n",
       "</table>\n",
       "<p>1 rows × 21 columns</p>\n",
       "</div>"
      ],
      "text/plain": [
       "              id       date      price  bedrooms  bathrooms  sqft_living  \\\n",
       "7252  6762700020 2014-10-13  7700000.0         6        8.0        12050   \n",
       "\n",
       "      sqft_lot  floors  waterfront  view  ...  grade  sqft_above  \\\n",
       "7252     27600     2.5           0     3  ...     13        8570   \n",
       "\n",
       "      sqft_basement  yr_built  yr_renovated  zipcode      lat     long  \\\n",
       "7252           3480      1910          1987    98102  47.6298 -122.323   \n",
       "\n",
       "      sqft_living15  sqft_lot15  \n",
       "7252           3940        8800  \n",
       "\n",
       "[1 rows x 21 columns]"
      ]
     },
     "execution_count": 249,
     "metadata": {},
     "output_type": "execute_result"
    }
   ],
   "source": [
    "# 4. Qual a casa mais cara ( casa com o maior valor de venda )?\n",
    "#     - R: id: 6762700020 | 7.700.000,00\n",
    "df_house_rocket[df_house_rocket['price'] == df_house_rocket['price'].max()]"
   ]
  },
  {
   "cell_type": "code",
   "execution_count": 248,
   "id": "a18d77fa",
   "metadata": {
    "ExecuteTime": {
     "end_time": "2021-04-09T16:33:15.425315Z",
     "start_time": "2021-04-09T16:33:15.373357Z"
    }
   },
   "outputs": [
    {
     "data": {
      "text/html": [
       "<div>\n",
       "<style scoped>\n",
       "    .dataframe tbody tr th:only-of-type {\n",
       "        vertical-align: middle;\n",
       "    }\n",
       "\n",
       "    .dataframe tbody tr th {\n",
       "        vertical-align: top;\n",
       "    }\n",
       "\n",
       "    .dataframe thead th {\n",
       "        text-align: right;\n",
       "    }\n",
       "</style>\n",
       "<table border=\"1\" class=\"dataframe\">\n",
       "  <thead>\n",
       "    <tr style=\"text-align: right;\">\n",
       "      <th></th>\n",
       "      <th>id</th>\n",
       "      <th>date</th>\n",
       "      <th>price</th>\n",
       "      <th>bedrooms</th>\n",
       "      <th>bathrooms</th>\n",
       "      <th>sqft_living</th>\n",
       "      <th>sqft_lot</th>\n",
       "      <th>floors</th>\n",
       "      <th>waterfront</th>\n",
       "      <th>view</th>\n",
       "      <th>...</th>\n",
       "      <th>grade</th>\n",
       "      <th>sqft_above</th>\n",
       "      <th>sqft_basement</th>\n",
       "      <th>yr_built</th>\n",
       "      <th>yr_renovated</th>\n",
       "      <th>zipcode</th>\n",
       "      <th>lat</th>\n",
       "      <th>long</th>\n",
       "      <th>sqft_living15</th>\n",
       "      <th>sqft_lot15</th>\n",
       "    </tr>\n",
       "  </thead>\n",
       "  <tbody>\n",
       "    <tr>\n",
       "      <th>15870</th>\n",
       "      <td>2402100895</td>\n",
       "      <td>2014-06-25</td>\n",
       "      <td>640000.0</td>\n",
       "      <td>33</td>\n",
       "      <td>1.75</td>\n",
       "      <td>1620</td>\n",
       "      <td>6000</td>\n",
       "      <td>1.0</td>\n",
       "      <td>0</td>\n",
       "      <td>0</td>\n",
       "      <td>...</td>\n",
       "      <td>7</td>\n",
       "      <td>1040</td>\n",
       "      <td>580</td>\n",
       "      <td>1947</td>\n",
       "      <td>0</td>\n",
       "      <td>98103</td>\n",
       "      <td>47.6878</td>\n",
       "      <td>-122.331</td>\n",
       "      <td>1330</td>\n",
       "      <td>4700</td>\n",
       "    </tr>\n",
       "  </tbody>\n",
       "</table>\n",
       "<p>1 rows × 21 columns</p>\n",
       "</div>"
      ],
      "text/plain": [
       "               id       date     price  bedrooms  bathrooms  sqft_living  \\\n",
       "15870  2402100895 2014-06-25  640000.0        33       1.75         1620   \n",
       "\n",
       "       sqft_lot  floors  waterfront  view  ...  grade  sqft_above  \\\n",
       "15870      6000     1.0           0     0  ...      7        1040   \n",
       "\n",
       "       sqft_basement  yr_built  yr_renovated  zipcode      lat     long  \\\n",
       "15870            580      1947             0    98103  47.6878 -122.331   \n",
       "\n",
       "       sqft_living15  sqft_lot15  \n",
       "15870           1330        4700  \n",
       "\n",
       "[1 rows x 21 columns]"
      ]
     },
     "execution_count": 248,
     "metadata": {},
     "output_type": "execute_result"
    }
   ],
   "source": [
    "# 5. Qual a casa com o maior número de quartos?\n",
    "#     - R: id= 2402100895 com 33 quartos\n",
    "df_house_rocket[df_house_rocket['bedrooms'] == df_house_rocket['bedrooms'].max()]"
   ]
  },
  {
   "cell_type": "markdown",
   "id": "b2199c56",
   "metadata": {},
   "source": [
    "### 3.2 - Novas Perguntas como exercício"
   ]
  },
  {
   "cell_type": "markdown",
   "id": "a0b8b3bb",
   "metadata": {},
   "source": [
    "1. Qual a soma total de quartos do conjunto de dados?\n",
    "2. Quantas casas possuem 2 banheiros?\n",
    "3. Qual o preço médio de todas as casas no conjunto de dados?\n",
    "4. Qual o preço médio de casas com 2 banheiros?\n",
    "5. Qual o preço mínimo entre as casas com 3 quartos?\n",
    "6. Quantas casas possuem mais de 300 metros quadrados na sala de estar?\n",
    "6. Quantas casas tem mais de 2 andares?\n",
    "7. Quantas casas tem vista para o mar?\n",
    "8. Das casas com vista para o mar, quantas tem 3 quartos?\n",
    "9. Das casas com mais de 300 metros quadrados de sala de estar, quantas tem mais de 2 banheiros?"
   ]
  },
  {
   "cell_type": "code",
   "execution_count": 24,
   "id": "61aef926",
   "metadata": {
    "ExecuteTime": {
     "end_time": "2021-04-12T23:57:26.164447Z",
     "start_time": "2021-04-12T23:57:26.150666Z"
    }
   },
   "outputs": [
    {
     "data": {
      "text/plain": [
       "72854"
      ]
     },
     "execution_count": 24,
     "metadata": {},
     "output_type": "execute_result"
    }
   ],
   "source": [
    "# Soma total de quartos\n",
    "df_house_rocket['bedrooms'].sum()"
   ]
  },
  {
   "cell_type": "code",
   "execution_count": 23,
   "id": "a9d12908",
   "metadata": {
    "ExecuteTime": {
     "end_time": "2021-04-12T23:56:20.990489Z",
     "start_time": "2021-04-12T23:56:20.914603Z"
    }
   },
   "outputs": [
    {
     "data": {
      "text/html": [
       "<div>\n",
       "<style scoped>\n",
       "    .dataframe tbody tr th:only-of-type {\n",
       "        vertical-align: middle;\n",
       "    }\n",
       "\n",
       "    .dataframe tbody tr th {\n",
       "        vertical-align: top;\n",
       "    }\n",
       "\n",
       "    .dataframe thead th {\n",
       "        text-align: right;\n",
       "    }\n",
       "</style>\n",
       "<table border=\"1\" class=\"dataframe\">\n",
       "  <thead>\n",
       "    <tr style=\"text-align: right;\">\n",
       "      <th></th>\n",
       "      <th>id</th>\n",
       "      <th>date</th>\n",
       "      <th>price</th>\n",
       "      <th>bedrooms</th>\n",
       "      <th>bathrooms</th>\n",
       "      <th>sqft_living</th>\n",
       "      <th>sqft_lot</th>\n",
       "      <th>floors</th>\n",
       "      <th>waterfront</th>\n",
       "      <th>view</th>\n",
       "      <th>condition</th>\n",
       "      <th>grade</th>\n",
       "      <th>sqft_above</th>\n",
       "      <th>sqft_basement</th>\n",
       "      <th>yr_built</th>\n",
       "      <th>yr_renovated</th>\n",
       "      <th>zipcode</th>\n",
       "      <th>lat</th>\n",
       "      <th>long</th>\n",
       "      <th>sqft_living15</th>\n",
       "      <th>sqft_lot15</th>\n",
       "    </tr>\n",
       "  </thead>\n",
       "  <tbody>\n",
       "    <tr>\n",
       "      <th>21608</th>\n",
       "      <td>263000018</td>\n",
       "      <td>2014-05-21</td>\n",
       "      <td>360000.0</td>\n",
       "      <td>3</td>\n",
       "      <td>2.50</td>\n",
       "      <td>1530</td>\n",
       "      <td>1131</td>\n",
       "      <td>3.0</td>\n",
       "      <td>0</td>\n",
       "      <td>0</td>\n",
       "      <td>3</td>\n",
       "      <td>8</td>\n",
       "      <td>1530</td>\n",
       "      <td>0</td>\n",
       "      <td>2009</td>\n",
       "      <td>0</td>\n",
       "      <td>98103</td>\n",
       "      <td>47.6993</td>\n",
       "      <td>-122.346</td>\n",
       "      <td>1530</td>\n",
       "      <td>1509</td>\n",
       "    </tr>\n",
       "    <tr>\n",
       "      <th>21609</th>\n",
       "      <td>6600060120</td>\n",
       "      <td>2015-02-23</td>\n",
       "      <td>400000.0</td>\n",
       "      <td>4</td>\n",
       "      <td>2.50</td>\n",
       "      <td>2310</td>\n",
       "      <td>5813</td>\n",
       "      <td>2.0</td>\n",
       "      <td>0</td>\n",
       "      <td>0</td>\n",
       "      <td>3</td>\n",
       "      <td>8</td>\n",
       "      <td>2310</td>\n",
       "      <td>0</td>\n",
       "      <td>2014</td>\n",
       "      <td>0</td>\n",
       "      <td>98146</td>\n",
       "      <td>47.5107</td>\n",
       "      <td>-122.362</td>\n",
       "      <td>1830</td>\n",
       "      <td>7200</td>\n",
       "    </tr>\n",
       "    <tr>\n",
       "      <th>21610</th>\n",
       "      <td>1523300141</td>\n",
       "      <td>2014-06-23</td>\n",
       "      <td>402101.0</td>\n",
       "      <td>2</td>\n",
       "      <td>0.75</td>\n",
       "      <td>1020</td>\n",
       "      <td>1350</td>\n",
       "      <td>2.0</td>\n",
       "      <td>0</td>\n",
       "      <td>0</td>\n",
       "      <td>3</td>\n",
       "      <td>7</td>\n",
       "      <td>1020</td>\n",
       "      <td>0</td>\n",
       "      <td>2009</td>\n",
       "      <td>0</td>\n",
       "      <td>98144</td>\n",
       "      <td>47.5944</td>\n",
       "      <td>-122.299</td>\n",
       "      <td>1020</td>\n",
       "      <td>2007</td>\n",
       "    </tr>\n",
       "    <tr>\n",
       "      <th>21611</th>\n",
       "      <td>291310100</td>\n",
       "      <td>2015-01-16</td>\n",
       "      <td>400000.0</td>\n",
       "      <td>3</td>\n",
       "      <td>2.50</td>\n",
       "      <td>1600</td>\n",
       "      <td>2388</td>\n",
       "      <td>2.0</td>\n",
       "      <td>0</td>\n",
       "      <td>0</td>\n",
       "      <td>3</td>\n",
       "      <td>8</td>\n",
       "      <td>1600</td>\n",
       "      <td>0</td>\n",
       "      <td>2004</td>\n",
       "      <td>0</td>\n",
       "      <td>98027</td>\n",
       "      <td>47.5345</td>\n",
       "      <td>-122.069</td>\n",
       "      <td>1410</td>\n",
       "      <td>1287</td>\n",
       "    </tr>\n",
       "    <tr>\n",
       "      <th>21612</th>\n",
       "      <td>1523300157</td>\n",
       "      <td>2014-10-15</td>\n",
       "      <td>325000.0</td>\n",
       "      <td>2</td>\n",
       "      <td>0.75</td>\n",
       "      <td>1020</td>\n",
       "      <td>1076</td>\n",
       "      <td>2.0</td>\n",
       "      <td>0</td>\n",
       "      <td>0</td>\n",
       "      <td>3</td>\n",
       "      <td>7</td>\n",
       "      <td>1020</td>\n",
       "      <td>0</td>\n",
       "      <td>2008</td>\n",
       "      <td>0</td>\n",
       "      <td>98144</td>\n",
       "      <td>47.5941</td>\n",
       "      <td>-122.299</td>\n",
       "      <td>1020</td>\n",
       "      <td>1357</td>\n",
       "    </tr>\n",
       "  </tbody>\n",
       "</table>\n",
       "</div>"
      ],
      "text/plain": [
       "               id       date     price  bedrooms  bathrooms  sqft_living  sqft_lot  floors  waterfront  view  condition  grade  sqft_above  sqft_basement  yr_built  yr_renovated  zipcode      lat     long  sqft_living15  sqft_lot15\n",
       "21608   263000018 2014-05-21  360000.0         3       2.50         1530      1131     3.0           0     0          3      8        1530              0      2009             0    98103  47.6993 -122.346           1530        1509\n",
       "21609  6600060120 2015-02-23  400000.0         4       2.50         2310      5813     2.0           0     0          3      8        2310              0      2014             0    98146  47.5107 -122.362           1830        7200\n",
       "21610  1523300141 2014-06-23  402101.0         2       0.75         1020      1350     2.0           0     0          3      7        1020              0      2009             0    98144  47.5944 -122.299           1020        2007\n",
       "21611   291310100 2015-01-16  400000.0         3       2.50         1600      2388     2.0           0     0          3      8        1600              0      2004             0    98027  47.5345 -122.069           1410        1287\n",
       "21612  1523300157 2014-10-15  325000.0         2       0.75         1020      1076     2.0           0     0          3      7        1020              0      2008             0    98144  47.5941 -122.299           1020        1357"
      ]
     },
     "execution_count": 23,
     "metadata": {},
     "output_type": "execute_result"
    }
   ],
   "source": [
    "# Soma total de quartos\n",
    "df_house_rocket.tail()"
   ]
  },
  {
   "cell_type": "markdown",
   "id": "0c4953d9",
   "metadata": {
    "heading_collapsed": true
   },
   "source": [
    "## 4.0 - Entrega"
   ]
  },
  {
   "cell_type": "markdown",
   "id": "ff9778ff",
   "metadata": {
    "hidden": true
   },
   "source": [
    "1. Quantas casas estão disponíveis para compra?\n",
    "    - R: **21436** casas\n",
    "2. Quantos atributos as casas possuem?\n",
    "    - R: **21** atributos das casas\n",
    "3. Quais são os atributos das casas?\n",
    "    - R:\n",
    "|id|date|price|bedrooms|bathrooms|sqft_living|sqft_lot|floors|waterfront|view|condition|grade|sqft_above|sqft_basement|yr_built|yr_renovated|zipcode|lat|long|sqft_living15|sqft_lot15|\n",
    "|--|--|--|--|--|--|--|--|--|--|--|--|--|--|--|--|--|--|--|--|--|\n",
    "|- |- |- |- |- |- |- |- |- |- |- |- |- |- |- |- |- |- |- |- |- |\n",
    "\n",
    "4. Qual a casa mais cara ( casa com o maior valor de venda )?\n",
    "    - R: id = **6762700020** no valor de **7.700.000,00**\n",
    "5. Qual a casa com o maior número de quartos?\n",
    "    - R: id = id **2402100895** com **33** quartos"
   ]
  },
  {
   "cell_type": "code",
   "execution_count": null,
   "id": "afcc787a",
   "metadata": {
    "hidden": true
   },
   "outputs": [],
   "source": []
  }
 ],
 "metadata": {
  "kernelspec": {
   "display_name": "Python 3",
   "language": "python",
   "name": "python3"
  },
  "language_info": {
   "codemirror_mode": {
    "name": "ipython",
    "version": 3
   },
   "file_extension": ".py",
   "mimetype": "text/x-python",
   "name": "python",
   "nbconvert_exporter": "python",
   "pygments_lexer": "ipython3",
   "version": "3.8.6"
  }
 },
 "nbformat": 4,
 "nbformat_minor": 5
}
